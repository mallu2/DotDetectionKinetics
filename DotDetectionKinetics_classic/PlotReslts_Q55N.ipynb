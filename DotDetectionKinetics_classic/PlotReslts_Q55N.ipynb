{
 "cells": [
  {
   "cell_type": "markdown",
   "metadata": {},
   "source": [
    "folder needs to be defined for the analysis to run"
   ]
  },
  {
   "cell_type": "code",
   "execution_count": 1,
   "metadata": {
    "scrolled": true
   },
   "outputs": [],
   "source": [
    "import numpy as np\n",
    "import pandas as pd\n",
    "import os, sys\n",
    "import seaborn as sns\n",
    "import matplotlib.pyplot as plt "
   ]
  },
  {
   "cell_type": "code",
   "execution_count": 21,
   "metadata": {},
   "outputs": [],
   "source": [
    "folder1 = \"/home/malinlu/elflab/Projects/LacIdynamicsInVivo/EXP-23-CA4342/\"\n",
    "folder2 = \"/home/malinlu/elflab/Projects/LacIdynamicsInVivo/EXP-23-CA4348/\"\n",
    "folder3 = \"/home/malinlu/elflab/Projects/LacIdynamicsInVivo/EXP-23-CA4360/\""
   ]
  },
  {
   "cell_type": "markdown",
   "metadata": {},
   "source": [
    "The following parameters can be found in the table: ampl, bg, id (?),\tdr, \tsigma,\ttime,\tnumCells,\tPosition (on the chip). Additionally, I need to add which strain has been imaged in which position. As we image the different sides in an alternating fashion, either even or odd position numbers were used for one of the strains. "
   ]
  },
  {
   "cell_type": "code",
   "execution_count": 6,
   "metadata": {},
   "outputs": [],
   "source": [
    "def checkTable( folder, OSym=\"even\", run=2, protein=\"wt\", IPTG=\"0.3 mM\"):\n",
    "    \"\"\"Just check the table output from ImAnalysis. \"\"\"\n",
    "    \n",
    "    df = pd.read_excel(folder+'dots_run{}_.xlsx'.format(run), engine='openpyxl')\n",
    "    print(folder+'dots_run{}_.xlsx'.format(run))\n",
    "    return(df)"
   ]
  },
  {
   "cell_type": "code",
   "execution_count": 7,
   "metadata": {},
   "outputs": [
    {
     "name": "stdout",
     "output_type": "stream",
     "text": [
      "/home/malinlu/elflab/Projects/LacIdynamicsInVivo/EXP-23-CA4342/dots_run2_.xlsx\n"
     ]
    }
   ],
   "source": [
    "run2_test = checkTable(folder1, OSym=\"odd\", run=2)"
   ]
  },
  {
   "cell_type": "code",
   "execution_count": 37,
   "metadata": {},
   "outputs": [
    {
     "data": {
      "text/plain": [
       "'/home/malinlu/elflab/Projects/LacIdynamicsInVivo/EXP-23-CA4342/'"
      ]
     },
     "execution_count": 37,
     "metadata": {},
     "output_type": "execute_result"
    }
   ],
   "source": [
    "folder1"
   ]
  },
  {
   "cell_type": "code",
   "execution_count": 10,
   "metadata": {},
   "outputs": [
    {
     "data": {
      "text/html": [
       "<div>\n",
       "<style scoped>\n",
       "    .dataframe tbody tr th:only-of-type {\n",
       "        vertical-align: middle;\n",
       "    }\n",
       "\n",
       "    .dataframe tbody tr th {\n",
       "        vertical-align: top;\n",
       "    }\n",
       "\n",
       "    .dataframe thead th {\n",
       "        text-align: right;\n",
       "    }\n",
       "</style>\n",
       "<table border=\"1\" class=\"dataframe\">\n",
       "  <thead>\n",
       "    <tr style=\"text-align: right;\">\n",
       "      <th></th>\n",
       "      <th>coord_1</th>\n",
       "      <th>coord_2</th>\n",
       "      <th>internalCoord_1</th>\n",
       "      <th>internalCoord_2</th>\n",
       "      <th>err_1</th>\n",
       "      <th>err_2</th>\n",
       "      <th>err_3</th>\n",
       "      <th>ampl</th>\n",
       "      <th>bg</th>\n",
       "      <th>id</th>\n",
       "      <th>dr</th>\n",
       "      <th>sigma</th>\n",
       "      <th>time</th>\n",
       "      <th>numCells</th>\n",
       "      <th>Position</th>\n",
       "    </tr>\n",
       "  </thead>\n",
       "  <tbody>\n",
       "    <tr>\n",
       "      <th>0</th>\n",
       "      <td>710.652053</td>\n",
       "      <td>284.237268</td>\n",
       "      <td>0.690086</td>\n",
       "      <td>0.163493</td>\n",
       "      <td>0.079522</td>\n",
       "      <td>0.073244</td>\n",
       "      <td>-0.014231</td>\n",
       "      <td>9494.361489</td>\n",
       "      <td>121.449998</td>\n",
       "      <td>362</td>\n",
       "      <td>1.435257</td>\n",
       "      <td>4.915636</td>\n",
       "      <td>1699543353596</td>\n",
       "      <td>837</td>\n",
       "      <td>1</td>\n",
       "    </tr>\n",
       "    <tr>\n",
       "      <th>98</th>\n",
       "      <td>564.883059</td>\n",
       "      <td>344.882094</td>\n",
       "      <td>0.568142</td>\n",
       "      <td>-0.112714</td>\n",
       "      <td>0.091482</td>\n",
       "      <td>0.072827</td>\n",
       "      <td>0.004377</td>\n",
       "      <td>6192.291533</td>\n",
       "      <td>201.193640</td>\n",
       "      <td>234</td>\n",
       "      <td>0.854734</td>\n",
       "      <td>4.228956</td>\n",
       "      <td>1699543358527</td>\n",
       "      <td>810</td>\n",
       "      <td>2</td>\n",
       "    </tr>\n",
       "    <tr>\n",
       "      <th>174</th>\n",
       "      <td>512.841137</td>\n",
       "      <td>274.487025</td>\n",
       "      <td>0.515284</td>\n",
       "      <td>-0.384928</td>\n",
       "      <td>0.101829</td>\n",
       "      <td>0.088550</td>\n",
       "      <td>0.011080</td>\n",
       "      <td>305.960818</td>\n",
       "      <td>169.882535</td>\n",
       "      <td>384</td>\n",
       "      <td>0.331301</td>\n",
       "      <td>1.131530</td>\n",
       "      <td>1699543367890</td>\n",
       "      <td>795</td>\n",
       "      <td>3</td>\n",
       "    </tr>\n",
       "    <tr>\n",
       "      <th>281</th>\n",
       "      <td>345.020977</td>\n",
       "      <td>303.776400</td>\n",
       "      <td>0.613056</td>\n",
       "      <td>0.416731</td>\n",
       "      <td>0.193979</td>\n",
       "      <td>0.142511</td>\n",
       "      <td>-0.016780</td>\n",
       "      <td>3071.450886</td>\n",
       "      <td>144.095855</td>\n",
       "      <td>126</td>\n",
       "      <td>1.667323</td>\n",
       "      <td>3.786891</td>\n",
       "      <td>1699543372895</td>\n",
       "      <td>812</td>\n",
       "      <td>4</td>\n",
       "    </tr>\n",
       "    <tr>\n",
       "      <th>374</th>\n",
       "      <td>396.475260</td>\n",
       "      <td>275.121099</td>\n",
       "      <td>0.548324</td>\n",
       "      <td>-0.188958</td>\n",
       "      <td>0.160141</td>\n",
       "      <td>0.140699</td>\n",
       "      <td>-0.028735</td>\n",
       "      <td>3329.037143</td>\n",
       "      <td>242.809118</td>\n",
       "      <td>357</td>\n",
       "      <td>1.679994</td>\n",
       "      <td>3.511430</td>\n",
       "      <td>1699543382889</td>\n",
       "      <td>818</td>\n",
       "      <td>5</td>\n",
       "    </tr>\n",
       "  </tbody>\n",
       "</table>\n",
       "</div>"
      ],
      "text/plain": [
       "        coord_1     coord_2  internalCoord_1  internalCoord_2     err_1  \\\n",
       "0    710.652053  284.237268         0.690086         0.163493  0.079522   \n",
       "98   564.883059  344.882094         0.568142        -0.112714  0.091482   \n",
       "174  512.841137  274.487025         0.515284        -0.384928  0.101829   \n",
       "281  345.020977  303.776400         0.613056         0.416731  0.193979   \n",
       "374  396.475260  275.121099         0.548324        -0.188958  0.160141   \n",
       "\n",
       "        err_2     err_3         ampl          bg   id        dr     sigma  \\\n",
       "0    0.073244 -0.014231  9494.361489  121.449998  362  1.435257  4.915636   \n",
       "98   0.072827  0.004377  6192.291533  201.193640  234  0.854734  4.228956   \n",
       "174  0.088550  0.011080   305.960818  169.882535  384  0.331301  1.131530   \n",
       "281  0.142511 -0.016780  3071.450886  144.095855  126  1.667323  3.786891   \n",
       "374  0.140699 -0.028735  3329.037143  242.809118  357  1.679994  3.511430   \n",
       "\n",
       "              time  numCells  Position  \n",
       "0    1699543353596       837         1  \n",
       "98   1699543358527       810         2  \n",
       "174  1699543367890       795         3  \n",
       "281  1699543372895       812         4  \n",
       "374  1699543382889       818         5  "
      ]
     },
     "execution_count": 10,
     "metadata": {},
     "output_type": "execute_result"
    }
   ],
   "source": [
    "ind = np.unique(run2_test.sort_values(\"time\")[\"Position\"].values, return_index=True)[1]\n",
    "run2_test.iloc[ind].head()"
   ]
  },
  {
   "cell_type": "code",
   "execution_count": 11,
   "metadata": {},
   "outputs": [],
   "source": [
    "def normalizeTimesAddInf(folder, OSym=\"even\", run=2, protein=\"WT\", IPTG=\"0.3 mM\", replica =1):\n",
    "    \"\"\"Reads the result from ImAnalysis, adds information on the experiment and time of the run.\n",
    "    \n",
    "    Parameters\n",
    "    ----------\n",
    "    folder (str):\n",
    "        the folder with the data.\n",
    "    OSym (str): \"even\" or \"odd\"\n",
    "        even or odd dependent on positions with the strain having even or odd numbers.\n",
    "    run (int)\n",
    "        number of the run to be analysed.\n",
    "    protein (str): \"WT\", \"V52A\" or \"Q55N\"\n",
    "        defined the protein mutant contained in the cells.\n",
    "    IPTG (str)\n",
    "        defines the IPTG concentration used in the experiment.\n",
    "        \n",
    "\n",
    "    Returns\n",
    "    -------\n",
    "    df (pandas DF)\n",
    "        dataframe that contains the data from the image analysis with the time in s and specifics \n",
    "        about the experiment.\n",
    "\n",
    "    \"\"\"\n",
    "    \n",
    "    df = pd.read_excel(folder+'dots_run{}_.xlsx'.format(run), engine='openpyxl')\n",
    "\n",
    "    time1 = np.round(df.iloc[0][\"time\"]/1000)\n",
    "\n",
    "    norm_time = np.round(df[\"time\"]/1000)-time1 \n",
    "    df[\"Time (s)\"] = norm_time\n",
    "    \n",
    "    max_pos = np.max(df[\"Position\"].values)\n",
    "    \n",
    "    if OSym==\"even\":\n",
    "        strains = np.where( df[\"Position\"].isin(np.arange(1,max_pos+1,2)) , \"term\", \"OSymL\")\n",
    "    if OSym==\"odd\":\n",
    "        strains = np.where( df[\"Position\"].isin(np.arange(1,max_pos+1,2)) , \"OSymL\", \"term\")\n",
    "\n",
    "    df[\"Run\"] = [run for x in range(len(df))]\n",
    "    df[\"Strain\"] = strains\n",
    "    df[\"Run\"] = [run for x in range(len(df))]\n",
    "    df[\"LacI\"] = [protein for x in range(len(df))]\n",
    "    df[\"IPTG\"] = [IPTG for x in range(len(df))]\n",
    "    df[\"Replica\"] = [replica for x in range(len(df))]\n",
    "    \n",
    "    return(df)"
   ]
  },
  {
   "cell_type": "code",
   "execution_count": 12,
   "metadata": {},
   "outputs": [],
   "source": [
    "run1 = normalizeTimesAddInf(folder1, OSym=\"even\", run = 1, protein=\"Q55N\")"
   ]
  },
  {
   "cell_type": "code",
   "execution_count": 13,
   "metadata": {},
   "outputs": [
    {
     "data": {
      "text/html": [
       "<div>\n",
       "<style scoped>\n",
       "    .dataframe tbody tr th:only-of-type {\n",
       "        vertical-align: middle;\n",
       "    }\n",
       "\n",
       "    .dataframe tbody tr th {\n",
       "        vertical-align: top;\n",
       "    }\n",
       "\n",
       "    .dataframe thead th {\n",
       "        text-align: right;\n",
       "    }\n",
       "</style>\n",
       "<table border=\"1\" class=\"dataframe\">\n",
       "  <thead>\n",
       "    <tr style=\"text-align: right;\">\n",
       "      <th></th>\n",
       "      <th>coord_1</th>\n",
       "      <th>coord_2</th>\n",
       "      <th>internalCoord_1</th>\n",
       "      <th>internalCoord_2</th>\n",
       "      <th>err_1</th>\n",
       "      <th>err_2</th>\n",
       "      <th>err_3</th>\n",
       "      <th>ampl</th>\n",
       "      <th>bg</th>\n",
       "      <th>id</th>\n",
       "      <th>...</th>\n",
       "      <th>sigma</th>\n",
       "      <th>time</th>\n",
       "      <th>numCells</th>\n",
       "      <th>Position</th>\n",
       "      <th>Time (s)</th>\n",
       "      <th>Run</th>\n",
       "      <th>Strain</th>\n",
       "      <th>LacI</th>\n",
       "      <th>IPTG</th>\n",
       "      <th>Replica</th>\n",
       "    </tr>\n",
       "  </thead>\n",
       "  <tbody>\n",
       "    <tr>\n",
       "      <th>0</th>\n",
       "      <td>381.184994</td>\n",
       "      <td>287.307044</td>\n",
       "      <td>0.238280</td>\n",
       "      <td>-0.539343</td>\n",
       "      <td>0.208028</td>\n",
       "      <td>0.181025</td>\n",
       "      <td>0.043459</td>\n",
       "      <td>711.658630</td>\n",
       "      <td>165.053069</td>\n",
       "      <td>127</td>\n",
       "      <td>...</td>\n",
       "      <td>1.962947</td>\n",
       "      <td>1699539751548</td>\n",
       "      <td>786</td>\n",
       "      <td>1</td>\n",
       "      <td>0.0</td>\n",
       "      <td>1</td>\n",
       "      <td>term</td>\n",
       "      <td>Q55N</td>\n",
       "      <td>0.3 mM</td>\n",
       "      <td>1</td>\n",
       "    </tr>\n",
       "    <tr>\n",
       "      <th>1</th>\n",
       "      <td>873.621041</td>\n",
       "      <td>348.067305</td>\n",
       "      <td>0.366108</td>\n",
       "      <td>-0.249077</td>\n",
       "      <td>0.186632</td>\n",
       "      <td>0.051797</td>\n",
       "      <td>0.001216</td>\n",
       "      <td>556.958343</td>\n",
       "      <td>249.475847</td>\n",
       "      <td>348</td>\n",
       "      <td>...</td>\n",
       "      <td>1.304446</td>\n",
       "      <td>1699539751548</td>\n",
       "      <td>786</td>\n",
       "      <td>1</td>\n",
       "      <td>0.0</td>\n",
       "      <td>1</td>\n",
       "      <td>term</td>\n",
       "      <td>Q55N</td>\n",
       "      <td>0.3 mM</td>\n",
       "      <td>1</td>\n",
       "    </tr>\n",
       "    <tr>\n",
       "      <th>2</th>\n",
       "      <td>657.714706</td>\n",
       "      <td>360.930406</td>\n",
       "      <td>0.306503</td>\n",
       "      <td>0.791223</td>\n",
       "      <td>0.046104</td>\n",
       "      <td>0.062765</td>\n",
       "      <td>-0.006878</td>\n",
       "      <td>262.407215</td>\n",
       "      <td>158.630987</td>\n",
       "      <td>233</td>\n",
       "      <td>...</td>\n",
       "      <td>0.867659</td>\n",
       "      <td>1699539751548</td>\n",
       "      <td>786</td>\n",
       "      <td>1</td>\n",
       "      <td>0.0</td>\n",
       "      <td>1</td>\n",
       "      <td>term</td>\n",
       "      <td>Q55N</td>\n",
       "      <td>0.3 mM</td>\n",
       "      <td>1</td>\n",
       "    </tr>\n",
       "  </tbody>\n",
       "</table>\n",
       "<p>3 rows × 21 columns</p>\n",
       "</div>"
      ],
      "text/plain": [
       "      coord_1     coord_2  internalCoord_1  internalCoord_2     err_1  \\\n",
       "0  381.184994  287.307044         0.238280        -0.539343  0.208028   \n",
       "1  873.621041  348.067305         0.366108        -0.249077  0.186632   \n",
       "2  657.714706  360.930406         0.306503         0.791223  0.046104   \n",
       "\n",
       "      err_2     err_3        ampl          bg   id  ...     sigma  \\\n",
       "0  0.181025  0.043459  711.658630  165.053069  127  ...  1.962947   \n",
       "1  0.051797  0.001216  556.958343  249.475847  348  ...  1.304446   \n",
       "2  0.062765 -0.006878  262.407215  158.630987  233  ...  0.867659   \n",
       "\n",
       "            time  numCells  Position  Time (s)  Run  Strain  LacI    IPTG  \\\n",
       "0  1699539751548       786         1       0.0    1    term  Q55N  0.3 mM   \n",
       "1  1699539751548       786         1       0.0    1    term  Q55N  0.3 mM   \n",
       "2  1699539751548       786         1       0.0    1    term  Q55N  0.3 mM   \n",
       "\n",
       "  Replica  \n",
       "0       1  \n",
       "1       1  \n",
       "2       1  \n",
       "\n",
       "[3 rows x 21 columns]"
      ]
     },
     "execution_count": 13,
     "metadata": {},
     "output_type": "execute_result"
    }
   ],
   "source": [
    "run1.head(3)"
   ]
  },
  {
   "cell_type": "code",
   "execution_count": 14,
   "metadata": {},
   "outputs": [],
   "source": [
    "def AvgNumDotsCells(df): \n",
    "    \"\"\"Counts and averages the number of dots per cell in each position.\n",
    "    \n",
    "            Parameters:\n",
    "                df (pandas DataFrame): from normalizeTimesAddStrain(OSym=\"even\" or \"odd\", run = X)\n",
    "\n",
    "            Returns:\n",
    "                avgNumDotsCells (pandas DataFrame):contains the averaged number of dots, runs id, strain, time (s), \n",
    "                                        IPTG and LacI mutant.\n",
    "    \"\"\"\n",
    "    \n",
    "    run=df\n",
    "    avgNumDotsCells = np.array(run.groupby(\"Position\").count()[\"numCells\"])/ \\\n",
    "    np.array(run.groupby(\"Position\").mean(numeric_only=True)[\"numCells\"])\n",
    "\n",
    "    time = np.array(run.groupby(\"Position\").first()[\"Time (s)\"])\n",
    "    strain = np.array(run.groupby(\"Position\").first()[\"Strain\"])\n",
    "\n",
    "    runs = np.array(run.groupby(\"Position\").first()[\"Run\"])\n",
    "    IPTG = np.array(run.groupby(\"Position\").first()[\"IPTG\"])\n",
    "    LacI = np.array(run.groupby(\"Position\").first()[\"LacI\"])\n",
    "    replica = np.array(run.groupby(\"Position\").first()[\"Replica\"])\n",
    "    \n",
    "    avgNumDotsCells = pd.DataFrame({\"Run\":runs, \"Strain\":strain, \"avg. N(Dots)/Cell\": \\\n",
    "             avgNumDotsCells, \"Time (s)\": time, \"IPTG\": IPTG, \"LacI\": LacI, \"Replica\":replica})\n",
    "    return(avgNumDotsCells)"
   ]
  },
  {
   "cell_type": "code",
   "execution_count": 15,
   "metadata": {},
   "outputs": [],
   "source": [
    "run1_rep1_Num = AvgNumDotsCells(normalizeTimesAddInf(folder1, OSym=\"even\", run = 1, protein=\"Q55N\"))\n",
    "run2_rep1_Num = AvgNumDotsCells(normalizeTimesAddInf(folder1, OSym=\"odd\", run = 2, protein=\"Q55N\"))\n",
    "run3_rep1_Num = AvgNumDotsCells(normalizeTimesAddInf(folder1, OSym=\"odd\", run = 3, protein=\"Q55N\"))"
   ]
  },
  {
   "cell_type": "code",
   "execution_count": 16,
   "metadata": {},
   "outputs": [
    {
     "data": {
      "text/plain": [
       "<AxesSubplot:xlabel='Time (s)', ylabel='avg. N(Dots)/Cell'>"
      ]
     },
     "execution_count": 16,
     "metadata": {},
     "output_type": "execute_result"
    },
    {
     "data": {
      "image/png": "[encoded data removed]",
      "text/plain": [
       "<Figure size 432x288 with 1 Axes>"
      ]
     },
     "metadata": {
      "needs_background": "light"
     },
     "output_type": "display_data"
    }
   ],
   "source": [
    "sns.lineplot(data=run3_rep1_Num, x = \"Time (s)\",\\\n",
    "             y = \"avg. N(Dots)/Cell\", hue = \"Strain\", style = \"Run\")"
   ]
  },
  {
   "cell_type": "code",
   "execution_count": 17,
   "metadata": {},
   "outputs": [],
   "source": [
    "#run1_rep2_Num = AvgNumDotsCells(normalizeTimesAddInf(folder2, OSym=\"even\", run = 1, replica=2))"
   ]
  },
  {
   "cell_type": "code",
   "execution_count": 18,
   "metadata": {},
   "outputs": [
    {
     "data": {
      "text/html": [
       "<div>\n",
       "<style scoped>\n",
       "    .dataframe tbody tr th:only-of-type {\n",
       "        vertical-align: middle;\n",
       "    }\n",
       "\n",
       "    .dataframe tbody tr th {\n",
       "        vertical-align: top;\n",
       "    }\n",
       "\n",
       "    .dataframe thead th {\n",
       "        text-align: right;\n",
       "    }\n",
       "</style>\n",
       "<table border=\"1\" class=\"dataframe\">\n",
       "  <thead>\n",
       "    <tr style=\"text-align: right;\">\n",
       "      <th></th>\n",
       "      <th>Run</th>\n",
       "      <th>Strain</th>\n",
       "      <th>avg. N(Dots)/Cell</th>\n",
       "      <th>Time (s)</th>\n",
       "      <th>IPTG</th>\n",
       "      <th>LacI</th>\n",
       "      <th>Replica</th>\n",
       "    </tr>\n",
       "  </thead>\n",
       "  <tbody>\n",
       "    <tr>\n",
       "      <th>0</th>\n",
       "      <td>1</td>\n",
       "      <td>term</td>\n",
       "      <td>0.086514</td>\n",
       "      <td>0.0</td>\n",
       "      <td>0.3 mM</td>\n",
       "      <td>Q55N</td>\n",
       "      <td>1</td>\n",
       "    </tr>\n",
       "    <tr>\n",
       "      <th>1</th>\n",
       "      <td>1</td>\n",
       "      <td>OSymL</td>\n",
       "      <td>0.121762</td>\n",
       "      <td>4.0</td>\n",
       "      <td>0.3 mM</td>\n",
       "      <td>Q55N</td>\n",
       "      <td>1</td>\n",
       "    </tr>\n",
       "  </tbody>\n",
       "</table>\n",
       "</div>"
      ],
      "text/plain": [
       "   Run Strain  avg. N(Dots)/Cell  Time (s)    IPTG  LacI  Replica\n",
       "0    1   term           0.086514       0.0  0.3 mM  Q55N        1\n",
       "1    1  OSymL           0.121762       4.0  0.3 mM  Q55N        1"
      ]
     },
     "execution_count": 18,
     "metadata": {},
     "output_type": "execute_result"
    }
   ],
   "source": [
    "run1_rep1_Num.head(2)#, run1_rep2_Num.head(2)"
   ]
  },
  {
   "cell_type": "code",
   "execution_count": 19,
   "metadata": {},
   "outputs": [],
   "source": [
    "def allRuns(folders, ids_runs, locs_OSym, protein=\"Q55N\"):\n",
    "    \"\"\"Combines the average number of cells record for all runs into one DF.\n",
    "    \n",
    "            Parameters:\n",
    "                ids_runs (list):the ids of the runs to sumarize.\n",
    "                locs_OSym (list): \"even\" or \"odd\", is Osym imaged from the even or odd positions?\n",
    "\n",
    "            Returns:\n",
    "                runNum1 (pandas DataFrame): summarized data frame.\n",
    "\n",
    "            Calls:\n",
    "                normalizeTimesAddStrain\n",
    "                AvgNumDotsCells\n",
    "    \"\"\"\n",
    "    \n",
    "    j=0\n",
    "    \n",
    "    df_list = []\n",
    "    \n",
    "    while j<len(folders):\n",
    "        print(j)\n",
    "        for i,m in zip(ids_runs[j], locs_OSym[j]):\n",
    "                df = normalizeTimesAddInf( folders[j], OSym=m, run=i, replica=j+1, protein=protein)\n",
    "                runNum = AvgNumDotsCells(df)\n",
    "                df_list.append(runNum)\n",
    "        j+=1\n",
    "                \n",
    "    runNum1 = pd.concat(x for x in df_list)\n",
    "    \n",
    "    return(runNum1.reset_index())"
   ]
  },
  {
   "cell_type": "code",
   "execution_count": 22,
   "metadata": {},
   "outputs": [
    {
     "name": "stdout",
     "output_type": "stream",
     "text": [
      "0\n",
      "1\n",
      "2\n"
     ]
    }
   ],
   "source": [
    "allR = allRuns([folder1,folder2, folder3],[[1,2,3],[1,2,3,4,5,6,7,8],[1,2,3,4,5,6,7]],[[\"even\", \"odd\", \"odd\"],\\\n",
    "     [\"even\", \"odd\",\"even\", \"odd\",\"even\", \"odd\",\"even\", \"odd\"],[\"odd\",\"even\", \"odd\",\"even\", \"odd\",\"even\", \"odd\"]])"
   ]
  },
  {
   "cell_type": "code",
   "execution_count": 26,
   "metadata": {},
   "outputs": [],
   "source": [
    "allR_ = allR.copy()"
   ]
  },
  {
   "cell_type": "code",
   "execution_count": 27,
   "metadata": {},
   "outputs": [
    {
     "data": {
      "text/plain": [
       "<AxesSubplot:xlabel='Time (s)', ylabel='avg. N(Dots)/Cell'>"
      ]
     },
     "execution_count": 27,
     "metadata": {},
     "output_type": "execute_result"
    },
    {
     "data": {
      "image/png": "[encoded data removed]",
      "text/plain": [
       "<Figure size 432x288 with 1 Axes>"
      ]
     },
     "metadata": {
      "needs_background": "light"
     },
     "output_type": "display_data"
    }
   ],
   "source": [
    "sns.lineplot(data=allR_[allR_[\"Replica\"]==3], x = \"Time (s)\", y = \"avg. N(Dots)/Cell\", \\\n",
    "             style = \"Strain\", hue = \"Run\", palette=\"Set2\")"
   ]
  },
  {
   "cell_type": "code",
   "execution_count": 28,
   "metadata": {},
   "outputs": [
    {
     "data": {
      "text/plain": [
       "<AxesSubplot:xlabel='Time (s)', ylabel='avg. N(Dots)/Cell'>"
      ]
     },
     "execution_count": 28,
     "metadata": {},
     "output_type": "execute_result"
    },
    {
     "data": {
      "image/png": "[encoded data removed]",
      "text/plain": [
       "<Figure size 432x288 with 1 Axes>"
      ]
     },
     "metadata": {
      "needs_background": "light"
     },
     "output_type": "display_data"
    }
   ],
   "source": [
    "sns.lineplot(data=allR_[allR_[\"Replica\"]==1], x = \"Time (s)\", y = \"avg. N(Dots)/Cell\", \\\n",
    "             hue = \"Strain\", style = \"Run\")"
   ]
  },
  {
   "cell_type": "markdown",
   "metadata": {},
   "source": [
    "For the analysis, the switch happens after 25 s. For binding curves 25 s should be substratected from the times and negative time stemps should be skipped. \n",
    "Additionally, I want to substract the non-specific binding (in the cells without the operator) from the mixed binding (in the cells with the operator) for the wt strain. "
   ]
  },
  {
   "cell_type": "code",
   "execution_count": 29,
   "metadata": {},
   "outputs": [],
   "source": [
    "# do some correction on run 3\n",
    "\n",
    "indexDrop = allR_[ (allR_[\"Replica\"]==1) &( allR_[\"Run\"]==3) & (allR_['Time (s)'] >= 230) ].index\n",
    "allR_.drop(indexDrop , inplace=True)"
   ]
  },
  {
   "cell_type": "code",
   "execution_count": 30,
   "metadata": {},
   "outputs": [
    {
     "data": {
      "text/plain": [
       "<AxesSubplot:xlabel='Time (s)', ylabel='avg. N(Dots)/Cell'>"
      ]
     },
     "execution_count": 30,
     "metadata": {},
     "output_type": "execute_result"
    },
    {
     "data": {
      "image/png": "[encoded data removed]",
      "text/plain": [
       "<Figure size 432x288 with 1 Axes>"
      ]
     },
     "metadata": {
      "needs_background": "light"
     },
     "output_type": "display_data"
    }
   ],
   "source": [
    "sns.lineplot(data=allR_[allR_[\"Replica\"]==1], x = \"Time (s)\", y = \"avg. N(Dots)/Cell\", style = \"Strain\", hue = \"Run\")"
   ]
  },
  {
   "cell_type": "code",
   "execution_count": 31,
   "metadata": {},
   "outputs": [
    {
     "data": {
      "text/plain": [
       "<AxesSubplot:xlabel='Time (s)', ylabel='avg. N(Dots)/Cell'>"
      ]
     },
     "execution_count": 31,
     "metadata": {},
     "output_type": "execute_result"
    },
    {
     "data": {
      "image/png": "[encoded data removed]",
      "text/plain": [
       "<Figure size 432x288 with 1 Axes>"
      ]
     },
     "metadata": {
      "needs_background": "light"
     },
     "output_type": "display_data"
    }
   ],
   "source": [
    "sns.lineplot(data=allR_[allR_[\"Replica\"]==2], x = \"Time (s)\", y = \"avg. N(Dots)/Cell\", hue = \"Run\", palette=\"Set2\", style=\"Strain\")"
   ]
  },
  {
   "cell_type": "code",
   "execution_count": 32,
   "metadata": {},
   "outputs": [
    {
     "data": {
      "text/html": [
       "<div>\n",
       "<style scoped>\n",
       "    .dataframe tbody tr th:only-of-type {\n",
       "        vertical-align: middle;\n",
       "    }\n",
       "\n",
       "    .dataframe tbody tr th {\n",
       "        vertical-align: top;\n",
       "    }\n",
       "\n",
       "    .dataframe thead th {\n",
       "        text-align: right;\n",
       "    }\n",
       "</style>\n",
       "<table border=\"1\" class=\"dataframe\">\n",
       "  <thead>\n",
       "    <tr style=\"text-align: right;\">\n",
       "      <th></th>\n",
       "      <th>index</th>\n",
       "      <th>Run</th>\n",
       "      <th>Strain</th>\n",
       "      <th>avg. N(Dots)/Cell</th>\n",
       "      <th>Time (s)</th>\n",
       "      <th>IPTG</th>\n",
       "      <th>LacI</th>\n",
       "      <th>Replica</th>\n",
       "    </tr>\n",
       "  </thead>\n",
       "  <tbody>\n",
       "    <tr>\n",
       "      <th>0</th>\n",
       "      <td>0</td>\n",
       "      <td>1</td>\n",
       "      <td>term</td>\n",
       "      <td>0.086514</td>\n",
       "      <td>0.0</td>\n",
       "      <td>0.3 mM</td>\n",
       "      <td>Q55N</td>\n",
       "      <td>1</td>\n",
       "    </tr>\n",
       "    <tr>\n",
       "      <th>2</th>\n",
       "      <td>2</td>\n",
       "      <td>1</td>\n",
       "      <td>term</td>\n",
       "      <td>0.118932</td>\n",
       "      <td>14.0</td>\n",
       "      <td>0.3 mM</td>\n",
       "      <td>Q55N</td>\n",
       "      <td>1</td>\n",
       "    </tr>\n",
       "    <tr>\n",
       "      <th>4</th>\n",
       "      <td>4</td>\n",
       "      <td>1</td>\n",
       "      <td>term</td>\n",
       "      <td>0.128485</td>\n",
       "      <td>29.0</td>\n",
       "      <td>0.3 mM</td>\n",
       "      <td>Q55N</td>\n",
       "      <td>1</td>\n",
       "    </tr>\n",
       "    <tr>\n",
       "      <th>6</th>\n",
       "      <td>6</td>\n",
       "      <td>1</td>\n",
       "      <td>term</td>\n",
       "      <td>0.123217</td>\n",
       "      <td>44.0</td>\n",
       "      <td>0.3 mM</td>\n",
       "      <td>Q55N</td>\n",
       "      <td>1</td>\n",
       "    </tr>\n",
       "    <tr>\n",
       "      <th>8</th>\n",
       "      <td>8</td>\n",
       "      <td>1</td>\n",
       "      <td>term</td>\n",
       "      <td>0.125000</td>\n",
       "      <td>59.0</td>\n",
       "      <td>0.3 mM</td>\n",
       "      <td>Q55N</td>\n",
       "      <td>1</td>\n",
       "    </tr>\n",
       "    <tr>\n",
       "      <th>...</th>\n",
       "      <td>...</td>\n",
       "      <td>...</td>\n",
       "      <td>...</td>\n",
       "      <td>...</td>\n",
       "      <td>...</td>\n",
       "      <td>...</td>\n",
       "      <td>...</td>\n",
       "      <td>...</td>\n",
       "    </tr>\n",
       "    <tr>\n",
       "      <th>846</th>\n",
       "      <td>39</td>\n",
       "      <td>7</td>\n",
       "      <td>term</td>\n",
       "      <td>0.170470</td>\n",
       "      <td>290.0</td>\n",
       "      <td>0.3 mM</td>\n",
       "      <td>Q55N</td>\n",
       "      <td>3</td>\n",
       "    </tr>\n",
       "    <tr>\n",
       "      <th>848</th>\n",
       "      <td>41</td>\n",
       "      <td>7</td>\n",
       "      <td>term</td>\n",
       "      <td>0.213499</td>\n",
       "      <td>305.0</td>\n",
       "      <td>0.3 mM</td>\n",
       "      <td>Q55N</td>\n",
       "      <td>3</td>\n",
       "    </tr>\n",
       "    <tr>\n",
       "      <th>850</th>\n",
       "      <td>43</td>\n",
       "      <td>7</td>\n",
       "      <td>term</td>\n",
       "      <td>0.169583</td>\n",
       "      <td>320.0</td>\n",
       "      <td>0.3 mM</td>\n",
       "      <td>Q55N</td>\n",
       "      <td>3</td>\n",
       "    </tr>\n",
       "    <tr>\n",
       "      <th>852</th>\n",
       "      <td>45</td>\n",
       "      <td>7</td>\n",
       "      <td>term</td>\n",
       "      <td>0.188966</td>\n",
       "      <td>335.0</td>\n",
       "      <td>0.3 mM</td>\n",
       "      <td>Q55N</td>\n",
       "      <td>3</td>\n",
       "    </tr>\n",
       "    <tr>\n",
       "      <th>854</th>\n",
       "      <td>47</td>\n",
       "      <td>7</td>\n",
       "      <td>term</td>\n",
       "      <td>0.193820</td>\n",
       "      <td>350.0</td>\n",
       "      <td>0.3 mM</td>\n",
       "      <td>Q55N</td>\n",
       "      <td>3</td>\n",
       "    </tr>\n",
       "  </tbody>\n",
       "</table>\n",
       "<p>424 rows × 8 columns</p>\n",
       "</div>"
      ],
      "text/plain": [
       "     index  Run Strain  avg. N(Dots)/Cell  Time (s)    IPTG  LacI  Replica\n",
       "0        0    1   term           0.086514       0.0  0.3 mM  Q55N        1\n",
       "2        2    1   term           0.118932      14.0  0.3 mM  Q55N        1\n",
       "4        4    1   term           0.128485      29.0  0.3 mM  Q55N        1\n",
       "6        6    1   term           0.123217      44.0  0.3 mM  Q55N        1\n",
       "8        8    1   term           0.125000      59.0  0.3 mM  Q55N        1\n",
       "..     ...  ...    ...                ...       ...     ...   ...      ...\n",
       "846     39    7   term           0.170470     290.0  0.3 mM  Q55N        3\n",
       "848     41    7   term           0.213499     305.0  0.3 mM  Q55N        3\n",
       "850     43    7   term           0.169583     320.0  0.3 mM  Q55N        3\n",
       "852     45    7   term           0.188966     335.0  0.3 mM  Q55N        3\n",
       "854     47    7   term           0.193820     350.0  0.3 mM  Q55N        3\n",
       "\n",
       "[424 rows x 8 columns]"
      ]
     },
     "execution_count": 32,
     "metadata": {},
     "output_type": "execute_result"
    }
   ],
   "source": [
    "allR_[allR_[\"Strain\"]==\"term\"]"
   ]
  },
  {
   "cell_type": "markdown",
   "metadata": {},
   "source": [
    "For the analysis, the switch happens after 10 s. Run 5 probabaly had more IPTG than the others. After the first media switch, the number of dots is back up. I will keep it in the dataset for now."
   ]
  },
  {
   "cell_type": "code",
   "execution_count": 47,
   "metadata": {},
   "outputs": [],
   "source": [
    "def interpolate(df, j, i):\n",
    "    \"\"\"Get the linear interpolation between non-specific dots to substract from the mixed binding.\n",
    "    \n",
    "        Parameters:\n",
    "            df (pandas DataFrame):\n",
    "                contains data from microscopy\n",
    "            j (int):\n",
    "                replica\n",
    "            i (int):\n",
    "                run\n",
    "        \n",
    "        Returns:\n",
    "            lininp (numpy array):\n",
    "                contains the interpolated values of non-specific bindings to match the time of the mixed one.\n",
    "    \"\"\"\n",
    "    \n",
    "    SymL = df[(df[\"Strain\"] == \"OSymL\") & (df[\"Replica\"] ==  j) ]\n",
    "    term = df[(df[\"Strain\"] == \"term\")& (df[\"Replica\"] ==  j) ]\n",
    "    \n",
    "    lininp = np.interp(SymL[SymL[\"Run\"]==i][\"Time (s)\"].values,\\\n",
    "                      term[term[\"Run\"]==i][\"Time (s)\"].values,\\\n",
    "                      term[term[\"Run\"]==i][\"avg. N(Dots)/Cell\"].values)\n",
    "    return(lininp)\n",
    "\n",
    "def checkFit(df, j, i):\n",
    "    \"Plot the data and the fitted cubic spline as well as the result from substraction (specific binding).\"\n",
    "    \n",
    "    SymL = df[(df[\"Strain\"] == \"OSymL\") & (df[\"Replica\"] ==  j) ]\n",
    "    term = df[(df[\"Strain\"] == \"term\")& (df[\"Replica\"] ==  j) ]\n",
    "    \n",
    "    interp = interpolate(df, j, i)\n",
    "    \n",
    "    plt.plot(SymL[SymL[\"Run\"]==i][\"Time (s)\"].values, interp, label='interpolation')\n",
    "    plt.plot(term[term[\"Run\"]==i][\"Time (s)\"].values,\\\n",
    "             term[term[\"Run\"]==i][\"avg. N(Dots)/Cell\"].values, label=\"data term\")\n",
    "    plt.plot(SymL[SymL[\"Run\"]==i][\"Time (s)\"].values,\\\n",
    "             SymL[SymL[\"Run\"]==i][\"avg. N(Dots)/Cell\"].values, label=\"data OSymL\")\n",
    "    plt.plot(SymL[SymL[\"Run\"]==i][\"Time (s)\"].values,\\\n",
    "             SymL[SymL[\"Run\"]==i][\"avg. N(Dots)/Cell\"].values-interp, label=\"data specific\")\n",
    "    plt.legend()"
   ]
  },
  {
   "cell_type": "code",
   "execution_count": 48,
   "metadata": {},
   "outputs": [
    {
     "data": {
      "image/png": "[encoded data removed]",
      "text/plain": [
       "<Figure size 432x288 with 1 Axes>"
      ]
     },
     "metadata": {
      "needs_background": "light"
     },
     "output_type": "display_data"
    }
   ],
   "source": [
    "checkFit(allR_,1,2)"
   ]
  },
  {
   "cell_type": "code",
   "execution_count": 36,
   "metadata": {},
   "outputs": [],
   "source": [
    "def calculateDeltaDots(df, LacI= \"Q55N\", IPTG=\"0.3 mM\", ONPG=False ,runs = 4, switching_time=10, replica = 1):\n",
    "    \"\"\" Calculates the difference between number of dots in cells with and without operator --> specific binding.\n",
    "    \n",
    "    This works for a DataFrame that contains data from one or several experiments, where the relevant one is \n",
    "    extracted using the keywords. The time is adjusted by substracting the time of the media switch.\n",
    "\n",
    "    The number of dots for the empty strain is substracted from the one with the operator. \n",
    "    As the data for the two strain cannot be recordet at the same time, the curves for the control strain\n",
    "    are fitted using a cubic splines first. The curves serve to calculate the expected number of dots recorded \n",
    "    at the same time as the image for the operator containing strain was recorded.\n",
    "    \n",
    "    Finally the curves of the runs (Usually 4 runs per experiment) are averaged to obtain a mean curve and \n",
    "    standard deviation.\n",
    "    \n",
    "        Parameters:\n",
    "            df (pandas DataFrame): contains the data from the microscopy experiment, where the strain and conditions are defined.\n",
    "            LacI (str):defines the protein\n",
    "            IPTG (str):defines the IPTG concentration in the media\n",
    "            ONPG (bol, str):False when no ONPG has been used, otherwise the ONPG concentration\n",
    "            runs (int):number of runs analysed for the df\n",
    "            switching_time (int):time (s) of the media switch\n",
    "    \n",
    "        Return:\n",
    "            dDots (pandas DataFrame): \n",
    "    \"\"\"\n",
    "\n",
    "    # get the experiments \n",
    "    if ONPG==True:\n",
    "        rr_LacI = df[(df[\"IPTG\"]==IPTG)&(df[\"LacI\"]==LacI)&(df[\"ONPG\"]==ONPG) & (df[\"Replica\"]==replica)]\n",
    "    else:\n",
    "        rr_LacI = df[(df[\"IPTG\"]==IPTG)&(df[\"LacI\"]==LacI) & (df[\"Replica\"]==replica)]\n",
    "    \n",
    "    \n",
    "    \n",
    "    # correct the time to 0 at the switch \n",
    "    rr_LacI_ = rr_LacI.copy()\n",
    "    rr_LacI_[\"Time (s)\"] = rr_LacI[\"Time (s)\"]-switching_time # Here you want a first point at 0\n",
    "    \n",
    "    #  exchange negative times with 0\n",
    "    rr_LacI_.loc[rr_LacI_[\"Time (s)\"] <0 , \"Time (s)\"] = 0\n",
    "    \n",
    "    # split the frame according to strain\n",
    "    rr_LacI_OSymL = rr_LacI_[rr_LacI_[\"Strain\"] == \"OSymL\"]\n",
    "    rr_LacI_term = rr_LacI_[rr_LacI_[\"Strain\"] == \"term\"]\n",
    "    \n",
    "    \n",
    "    #return(rr_LacI_)\n",
    "    # interpolate the number of non-specific dots for the specific binding time points\n",
    "    \n",
    "    \n",
    "    # calculate the difference between the average number of dots per cell in strains with and without operator\n",
    "    relNdots = []\n",
    "\n",
    "    for i in range(0,runs):\n",
    "        \n",
    "        new_term_points = interpolate(rr_LacI_, replica, i+1)\n",
    "        \n",
    "        relNdots.append(np.array(rr_LacI_OSymL[rr_LacI_OSymL[\"Run\"]==i+1][\"avg. N(Dots)/Cell\"])-new_term_points)\n",
    "\n",
    "    #meanNdots = np.mean(np.array([x[:20] for x in relNdots]), axis=0)\n",
    "    #stdNdots = np.std(np.array([x[:20] for x in relNdots]), axis=0)\n",
    "    \n",
    "    rr_LacI_OSymL_rel = rr_LacI_OSymL.copy()\n",
    "    rr_LacI_OSymL_rel[\"$\\Delta$ avg. N(dots)/cell\"] =  [x for i in relNdots for x in i]\n",
    "    return(rr_LacI_OSymL_rel)"
   ]
  },
  {
   "cell_type": "code",
   "execution_count": 37,
   "metadata": {},
   "outputs": [
    {
     "data": {
      "text/html": [
       "<div>\n",
       "<style scoped>\n",
       "    .dataframe tbody tr th:only-of-type {\n",
       "        vertical-align: middle;\n",
       "    }\n",
       "\n",
       "    .dataframe tbody tr th {\n",
       "        vertical-align: top;\n",
       "    }\n",
       "\n",
       "    .dataframe thead th {\n",
       "        text-align: right;\n",
       "    }\n",
       "</style>\n",
       "<table border=\"1\" class=\"dataframe\">\n",
       "  <thead>\n",
       "    <tr style=\"text-align: right;\">\n",
       "      <th></th>\n",
       "      <th>index</th>\n",
       "      <th>Run</th>\n",
       "      <th>Strain</th>\n",
       "      <th>avg. N(Dots)/Cell</th>\n",
       "      <th>Time (s)</th>\n",
       "      <th>IPTG</th>\n",
       "      <th>LacI</th>\n",
       "      <th>Replica</th>\n",
       "    </tr>\n",
       "  </thead>\n",
       "  <tbody>\n",
       "    <tr>\n",
       "      <th>850</th>\n",
       "      <td>43</td>\n",
       "      <td>7</td>\n",
       "      <td>term</td>\n",
       "      <td>0.169583</td>\n",
       "      <td>320.0</td>\n",
       "      <td>0.3 mM</td>\n",
       "      <td>Q55N</td>\n",
       "      <td>3</td>\n",
       "    </tr>\n",
       "    <tr>\n",
       "      <th>851</th>\n",
       "      <td>44</td>\n",
       "      <td>7</td>\n",
       "      <td>OSymL</td>\n",
       "      <td>0.741588</td>\n",
       "      <td>330.0</td>\n",
       "      <td>0.3 mM</td>\n",
       "      <td>Q55N</td>\n",
       "      <td>3</td>\n",
       "    </tr>\n",
       "    <tr>\n",
       "      <th>852</th>\n",
       "      <td>45</td>\n",
       "      <td>7</td>\n",
       "      <td>term</td>\n",
       "      <td>0.188966</td>\n",
       "      <td>335.0</td>\n",
       "      <td>0.3 mM</td>\n",
       "      <td>Q55N</td>\n",
       "      <td>3</td>\n",
       "    </tr>\n",
       "    <tr>\n",
       "      <th>853</th>\n",
       "      <td>46</td>\n",
       "      <td>7</td>\n",
       "      <td>OSymL</td>\n",
       "      <td>0.781560</td>\n",
       "      <td>345.0</td>\n",
       "      <td>0.3 mM</td>\n",
       "      <td>Q55N</td>\n",
       "      <td>3</td>\n",
       "    </tr>\n",
       "    <tr>\n",
       "      <th>854</th>\n",
       "      <td>47</td>\n",
       "      <td>7</td>\n",
       "      <td>term</td>\n",
       "      <td>0.193820</td>\n",
       "      <td>350.0</td>\n",
       "      <td>0.3 mM</td>\n",
       "      <td>Q55N</td>\n",
       "      <td>3</td>\n",
       "    </tr>\n",
       "  </tbody>\n",
       "</table>\n",
       "</div>"
      ],
      "text/plain": [
       "     index  Run Strain  avg. N(Dots)/Cell  Time (s)    IPTG  LacI  Replica\n",
       "850     43    7   term           0.169583     320.0  0.3 mM  Q55N        3\n",
       "851     44    7  OSymL           0.741588     330.0  0.3 mM  Q55N        3\n",
       "852     45    7   term           0.188966     335.0  0.3 mM  Q55N        3\n",
       "853     46    7  OSymL           0.781560     345.0  0.3 mM  Q55N        3\n",
       "854     47    7   term           0.193820     350.0  0.3 mM  Q55N        3"
      ]
     },
     "execution_count": 37,
     "metadata": {},
     "output_type": "execute_result"
    }
   ],
   "source": [
    "allR_.tail()"
   ]
  },
  {
   "cell_type": "code",
   "execution_count": 38,
   "metadata": {},
   "outputs": [],
   "source": [
    "relD_rep1 = calculateDeltaDots(allR_,runs = 3, switching_time= 25, replica = 1)"
   ]
  },
  {
   "cell_type": "code",
   "execution_count": 39,
   "metadata": {},
   "outputs": [],
   "source": [
    "relD_rep2 = calculateDeltaDots(allR_,runs = 8, switching_time= 10, replica = 2)"
   ]
  },
  {
   "cell_type": "code",
   "execution_count": 40,
   "metadata": {},
   "outputs": [],
   "source": [
    "relD_rep3 = calculateDeltaDots(allR_,runs = 7, switching_time= 10, replica = 3)"
   ]
  },
  {
   "cell_type": "markdown",
   "metadata": {},
   "source": [
    "For the averaging, the times of the positions need to be grouped to take an average. The imgage acquisition can be off by a few seconds."
   ]
  },
  {
   "cell_type": "code",
   "execution_count": 65,
   "metadata": {},
   "outputs": [
    {
     "data": {
      "text/plain": [
       "21"
      ]
     },
     "execution_count": 65,
     "metadata": {},
     "output_type": "execute_result"
    }
   ],
   "source": [
    "len(relD_rep1.loc[((relD_rep1[\"Run\"]==1) & (relD_rep1[\"Time (s)\"] != 0)), \"Time (s)\"])"
   ]
  },
  {
   "cell_type": "code",
   "execution_count": 70,
   "metadata": {},
   "outputs": [
    {
     "data": {
      "text/plain": [
       "355"
      ]
     },
     "execution_count": 70,
     "metadata": {},
     "output_type": "execute_result"
    }
   ],
   "source": [
    "len(relD_rep3.loc[((relD_rep3[\"Run\"]==5) & (relD_rep3[\"Time (s)\"] != 0)), \"Time (s)\"])*15+10"
   ]
  },
  {
   "cell_type": "code",
   "execution_count": 108,
   "metadata": {},
   "outputs": [
    {
     "data": {
      "text/html": [
       "<div>\n",
       "<style scoped>\n",
       "    .dataframe tbody tr th:only-of-type {\n",
       "        vertical-align: middle;\n",
       "    }\n",
       "\n",
       "    .dataframe tbody tr th {\n",
       "        vertical-align: top;\n",
       "    }\n",
       "\n",
       "    .dataframe thead th {\n",
       "        text-align: right;\n",
       "    }\n",
       "</style>\n",
       "<table border=\"1\" class=\"dataframe\">\n",
       "  <thead>\n",
       "    <tr style=\"text-align: right;\">\n",
       "      <th></th>\n",
       "      <th>index</th>\n",
       "      <th>Run</th>\n",
       "      <th>Strain</th>\n",
       "      <th>avg. N(Dots)/Cell</th>\n",
       "      <th>Time (s)</th>\n",
       "      <th>IPTG</th>\n",
       "      <th>LacI</th>\n",
       "      <th>Replica</th>\n",
       "      <th>$\\Delta$ avg. N(dots)/cell</th>\n",
       "    </tr>\n",
       "  </thead>\n",
       "  <tbody>\n",
       "    <tr>\n",
       "      <th>760</th>\n",
       "      <td>1</td>\n",
       "      <td>6</td>\n",
       "      <td>OSymL</td>\n",
       "      <td>0.238223</td>\n",
       "      <td>0.0</td>\n",
       "      <td>0.3 mM</td>\n",
       "      <td>Q55N</td>\n",
       "      <td>3</td>\n",
       "      <td>0.025366</td>\n",
       "    </tr>\n",
       "    <tr>\n",
       "      <th>762</th>\n",
       "      <td>3</td>\n",
       "      <td>6</td>\n",
       "      <td>OSymL</td>\n",
       "      <td>0.240268</td>\n",
       "      <td>10.0</td>\n",
       "      <td>0.3 mM</td>\n",
       "      <td>Q55N</td>\n",
       "      <td>3</td>\n",
       "      <td>0.012049</td>\n",
       "    </tr>\n",
       "    <tr>\n",
       "      <th>764</th>\n",
       "      <td>5</td>\n",
       "      <td>6</td>\n",
       "      <td>OSymL</td>\n",
       "      <td>0.266938</td>\n",
       "      <td>25.0</td>\n",
       "      <td>0.3 mM</td>\n",
       "      <td>Q55N</td>\n",
       "      <td>3</td>\n",
       "      <td>0.059191</td>\n",
       "    </tr>\n",
       "    <tr>\n",
       "      <th>766</th>\n",
       "      <td>7</td>\n",
       "      <td>6</td>\n",
       "      <td>OSymL</td>\n",
       "      <td>0.413598</td>\n",
       "      <td>40.0</td>\n",
       "      <td>0.3 mM</td>\n",
       "      <td>Q55N</td>\n",
       "      <td>3</td>\n",
       "      <td>0.195768</td>\n",
       "    </tr>\n",
       "    <tr>\n",
       "      <th>768</th>\n",
       "      <td>9</td>\n",
       "      <td>6</td>\n",
       "      <td>OSymL</td>\n",
       "      <td>0.526749</td>\n",
       "      <td>55.0</td>\n",
       "      <td>0.3 mM</td>\n",
       "      <td>Q55N</td>\n",
       "      <td>3</td>\n",
       "      <td>0.287939</td>\n",
       "    </tr>\n",
       "    <tr>\n",
       "      <th>770</th>\n",
       "      <td>11</td>\n",
       "      <td>6</td>\n",
       "      <td>OSymL</td>\n",
       "      <td>0.623109</td>\n",
       "      <td>70.0</td>\n",
       "      <td>0.3 mM</td>\n",
       "      <td>Q55N</td>\n",
       "      <td>3</td>\n",
       "      <td>0.411734</td>\n",
       "    </tr>\n",
       "    <tr>\n",
       "      <th>772</th>\n",
       "      <td>13</td>\n",
       "      <td>6</td>\n",
       "      <td>OSymL</td>\n",
       "      <td>0.619946</td>\n",
       "      <td>85.0</td>\n",
       "      <td>0.3 mM</td>\n",
       "      <td>Q55N</td>\n",
       "      <td>3</td>\n",
       "      <td>0.382452</td>\n",
       "    </tr>\n",
       "    <tr>\n",
       "      <th>774</th>\n",
       "      <td>15</td>\n",
       "      <td>6</td>\n",
       "      <td>OSymL</td>\n",
       "      <td>0.654880</td>\n",
       "      <td>100.0</td>\n",
       "      <td>0.3 mM</td>\n",
       "      <td>Q55N</td>\n",
       "      <td>3</td>\n",
       "      <td>0.435805</td>\n",
       "    </tr>\n",
       "    <tr>\n",
       "      <th>776</th>\n",
       "      <td>17</td>\n",
       "      <td>6</td>\n",
       "      <td>OSymL</td>\n",
       "      <td>0.704846</td>\n",
       "      <td>115.0</td>\n",
       "      <td>0.3 mM</td>\n",
       "      <td>Q55N</td>\n",
       "      <td>3</td>\n",
       "      <td>0.498933</td>\n",
       "    </tr>\n",
       "    <tr>\n",
       "      <th>778</th>\n",
       "      <td>19</td>\n",
       "      <td>6</td>\n",
       "      <td>OSymL</td>\n",
       "      <td>0.746186</td>\n",
       "      <td>130.0</td>\n",
       "      <td>0.3 mM</td>\n",
       "      <td>Q55N</td>\n",
       "      <td>3</td>\n",
       "      <td>0.505642</td>\n",
       "    </tr>\n",
       "    <tr>\n",
       "      <th>780</th>\n",
       "      <td>21</td>\n",
       "      <td>6</td>\n",
       "      <td>OSymL</td>\n",
       "      <td>0.712209</td>\n",
       "      <td>145.0</td>\n",
       "      <td>0.3 mM</td>\n",
       "      <td>Q55N</td>\n",
       "      <td>3</td>\n",
       "      <td>0.470830</td>\n",
       "    </tr>\n",
       "    <tr>\n",
       "      <th>782</th>\n",
       "      <td>23</td>\n",
       "      <td>6</td>\n",
       "      <td>OSymL</td>\n",
       "      <td>0.660079</td>\n",
       "      <td>160.0</td>\n",
       "      <td>0.3 mM</td>\n",
       "      <td>Q55N</td>\n",
       "      <td>3</td>\n",
       "      <td>0.433803</td>\n",
       "    </tr>\n",
       "    <tr>\n",
       "      <th>784</th>\n",
       "      <td>25</td>\n",
       "      <td>6</td>\n",
       "      <td>OSymL</td>\n",
       "      <td>0.734088</td>\n",
       "      <td>175.0</td>\n",
       "      <td>0.3 mM</td>\n",
       "      <td>Q55N</td>\n",
       "      <td>3</td>\n",
       "      <td>0.527958</td>\n",
       "    </tr>\n",
       "    <tr>\n",
       "      <th>786</th>\n",
       "      <td>27</td>\n",
       "      <td>6</td>\n",
       "      <td>OSymL</td>\n",
       "      <td>0.731092</td>\n",
       "      <td>190.0</td>\n",
       "      <td>0.3 mM</td>\n",
       "      <td>Q55N</td>\n",
       "      <td>3</td>\n",
       "      <td>0.482859</td>\n",
       "    </tr>\n",
       "    <tr>\n",
       "      <th>788</th>\n",
       "      <td>29</td>\n",
       "      <td>6</td>\n",
       "      <td>OSymL</td>\n",
       "      <td>0.769441</td>\n",
       "      <td>205.0</td>\n",
       "      <td>0.3 mM</td>\n",
       "      <td>Q55N</td>\n",
       "      <td>3</td>\n",
       "      <td>0.482849</td>\n",
       "    </tr>\n",
       "    <tr>\n",
       "      <th>790</th>\n",
       "      <td>31</td>\n",
       "      <td>6</td>\n",
       "      <td>OSymL</td>\n",
       "      <td>0.801187</td>\n",
       "      <td>220.0</td>\n",
       "      <td>0.3 mM</td>\n",
       "      <td>Q55N</td>\n",
       "      <td>3</td>\n",
       "      <td>0.545788</td>\n",
       "    </tr>\n",
       "    <tr>\n",
       "      <th>792</th>\n",
       "      <td>33</td>\n",
       "      <td>6</td>\n",
       "      <td>OSymL</td>\n",
       "      <td>0.686828</td>\n",
       "      <td>235.0</td>\n",
       "      <td>0.3 mM</td>\n",
       "      <td>Q55N</td>\n",
       "      <td>3</td>\n",
       "      <td>0.487865</td>\n",
       "    </tr>\n",
       "    <tr>\n",
       "      <th>794</th>\n",
       "      <td>35</td>\n",
       "      <td>6</td>\n",
       "      <td>OSymL</td>\n",
       "      <td>0.793948</td>\n",
       "      <td>250.0</td>\n",
       "      <td>0.3 mM</td>\n",
       "      <td>Q55N</td>\n",
       "      <td>3</td>\n",
       "      <td>0.603874</td>\n",
       "    </tr>\n",
       "    <tr>\n",
       "      <th>796</th>\n",
       "      <td>37</td>\n",
       "      <td>6</td>\n",
       "      <td>OSymL</td>\n",
       "      <td>0.704225</td>\n",
       "      <td>265.0</td>\n",
       "      <td>0.3 mM</td>\n",
       "      <td>Q55N</td>\n",
       "      <td>3</td>\n",
       "      <td>0.496728</td>\n",
       "    </tr>\n",
       "    <tr>\n",
       "      <th>798</th>\n",
       "      <td>39</td>\n",
       "      <td>6</td>\n",
       "      <td>OSymL</td>\n",
       "      <td>0.704641</td>\n",
       "      <td>280.0</td>\n",
       "      <td>0.3 mM</td>\n",
       "      <td>Q55N</td>\n",
       "      <td>3</td>\n",
       "      <td>0.493226</td>\n",
       "    </tr>\n",
       "    <tr>\n",
       "      <th>800</th>\n",
       "      <td>41</td>\n",
       "      <td>6</td>\n",
       "      <td>OSymL</td>\n",
       "      <td>0.761970</td>\n",
       "      <td>295.0</td>\n",
       "      <td>0.3 mM</td>\n",
       "      <td>Q55N</td>\n",
       "      <td>3</td>\n",
       "      <td>0.516994</td>\n",
       "    </tr>\n",
       "    <tr>\n",
       "      <th>802</th>\n",
       "      <td>43</td>\n",
       "      <td>6</td>\n",
       "      <td>OSymL</td>\n",
       "      <td>0.731302</td>\n",
       "      <td>310.0</td>\n",
       "      <td>0.3 mM</td>\n",
       "      <td>Q55N</td>\n",
       "      <td>3</td>\n",
       "      <td>0.489714</td>\n",
       "    </tr>\n",
       "    <tr>\n",
       "      <th>804</th>\n",
       "      <td>45</td>\n",
       "      <td>6</td>\n",
       "      <td>OSymL</td>\n",
       "      <td>0.776184</td>\n",
       "      <td>325.0</td>\n",
       "      <td>0.3 mM</td>\n",
       "      <td>Q55N</td>\n",
       "      <td>3</td>\n",
       "      <td>0.552399</td>\n",
       "    </tr>\n",
       "    <tr>\n",
       "      <th>806</th>\n",
       "      <td>47</td>\n",
       "      <td>6</td>\n",
       "      <td>OSymL</td>\n",
       "      <td>0.733793</td>\n",
       "      <td>340.0</td>\n",
       "      <td>0.3 mM</td>\n",
       "      <td>Q55N</td>\n",
       "      <td>3</td>\n",
       "      <td>0.514785</td>\n",
       "    </tr>\n",
       "  </tbody>\n",
       "</table>\n",
       "</div>"
      ],
      "text/plain": [
       "     index  Run Strain  avg. N(Dots)/Cell  Time (s)    IPTG  LacI  Replica  \\\n",
       "760      1    6  OSymL           0.238223       0.0  0.3 mM  Q55N        3   \n",
       "762      3    6  OSymL           0.240268      10.0  0.3 mM  Q55N        3   \n",
       "764      5    6  OSymL           0.266938      25.0  0.3 mM  Q55N        3   \n",
       "766      7    6  OSymL           0.413598      40.0  0.3 mM  Q55N        3   \n",
       "768      9    6  OSymL           0.526749      55.0  0.3 mM  Q55N        3   \n",
       "770     11    6  OSymL           0.623109      70.0  0.3 mM  Q55N        3   \n",
       "772     13    6  OSymL           0.619946      85.0  0.3 mM  Q55N        3   \n",
       "774     15    6  OSymL           0.654880     100.0  0.3 mM  Q55N        3   \n",
       "776     17    6  OSymL           0.704846     115.0  0.3 mM  Q55N        3   \n",
       "778     19    6  OSymL           0.746186     130.0  0.3 mM  Q55N        3   \n",
       "780     21    6  OSymL           0.712209     145.0  0.3 mM  Q55N        3   \n",
       "782     23    6  OSymL           0.660079     160.0  0.3 mM  Q55N        3   \n",
       "784     25    6  OSymL           0.734088     175.0  0.3 mM  Q55N        3   \n",
       "786     27    6  OSymL           0.731092     190.0  0.3 mM  Q55N        3   \n",
       "788     29    6  OSymL           0.769441     205.0  0.3 mM  Q55N        3   \n",
       "790     31    6  OSymL           0.801187     220.0  0.3 mM  Q55N        3   \n",
       "792     33    6  OSymL           0.686828     235.0  0.3 mM  Q55N        3   \n",
       "794     35    6  OSymL           0.793948     250.0  0.3 mM  Q55N        3   \n",
       "796     37    6  OSymL           0.704225     265.0  0.3 mM  Q55N        3   \n",
       "798     39    6  OSymL           0.704641     280.0  0.3 mM  Q55N        3   \n",
       "800     41    6  OSymL           0.761970     295.0  0.3 mM  Q55N        3   \n",
       "802     43    6  OSymL           0.731302     310.0  0.3 mM  Q55N        3   \n",
       "804     45    6  OSymL           0.776184     325.0  0.3 mM  Q55N        3   \n",
       "806     47    6  OSymL           0.733793     340.0  0.3 mM  Q55N        3   \n",
       "\n",
       "     $\\Delta$ avg. N(dots)/cell  \n",
       "760                    0.025366  \n",
       "762                    0.012049  \n",
       "764                    0.059191  \n",
       "766                    0.195768  \n",
       "768                    0.287939  \n",
       "770                    0.411734  \n",
       "772                    0.382452  \n",
       "774                    0.435805  \n",
       "776                    0.498933  \n",
       "778                    0.505642  \n",
       "780                    0.470830  \n",
       "782                    0.433803  \n",
       "784                    0.527958  \n",
       "786                    0.482859  \n",
       "788                    0.482849  \n",
       "790                    0.545788  \n",
       "792                    0.487865  \n",
       "794                    0.603874  \n",
       "796                    0.496728  \n",
       "798                    0.493226  \n",
       "800                    0.516994  \n",
       "802                    0.489714  \n",
       "804                    0.552399  \n",
       "806                    0.514785  "
      ]
     },
     "execution_count": 108,
     "metadata": {},
     "output_type": "execute_result"
    }
   ],
   "source": [
    "relD_rep3.loc[(relD_rep3[\"Run\"]==6)]"
   ]
  },
  {
   "cell_type": "code",
   "execution_count": 109,
   "metadata": {},
   "outputs": [
    {
     "data": {
      "text/plain": [
       "array([ 10,  25,  40,  55,  70,  85, 100, 115, 130, 145, 160, 175, 190,\n",
       "       205, 220, 235, 250, 265, 280, 295, 310, 325, 340])"
      ]
     },
     "execution_count": 109,
     "metadata": {},
     "output_type": "execute_result"
    }
   ],
   "source": [
    "np.arange(10,345, 15)"
   ]
  },
  {
   "cell_type": "code",
   "execution_count": 110,
   "metadata": {},
   "outputs": [],
   "source": [
    "# change the times\n",
    "relD_rep1.loc[((relD_rep1[\"Run\"]==1) & (relD_rep1[\"Time (s)\"] != 0)), \"Time (s)\"] = np.arange(10,325, 15)\n",
    "relD_rep1.loc[((relD_rep1[\"Run\"]==2) & (relD_rep1[\"Time (s)\"] != 0)), \"Time (s)\"] = np.arange(5,320, 15)\n",
    "relD_rep1.loc[((relD_rep1[\"Run\"]==3) & (relD_rep1[\"Time (s)\"] != 0)), \"Time (s)\"] = np.arange(5,215, 15)\n",
    "relD_rep2.loc[((relD_rep2[\"Run\"]==1) & (relD_rep2[\"Time (s)\"] != 0)), \"Time (s)\"] = np.arange(10,350, 15)\n",
    "relD_rep2.loc[((relD_rep2[\"Run\"]==3) & (relD_rep2[\"Time (s)\"] != 0)), \"Time (s)\"] = np.arange(10,350, 15)\n",
    "relD_rep2.loc[((relD_rep2[\"Run\"]==2) & (relD_rep2[\"Time (s)\"] != 0)), \"Time (s)\"] = np.arange(5,350, 15)\n",
    "relD_rep2.loc[((relD_rep2[\"Run\"]==4) & (relD_rep2[\"Time (s)\"] != 0)), \"Time (s)\"] = np.arange(5,360, 15)\n",
    "relD_rep2.loc[((relD_rep2[\"Run\"]==5) & (relD_rep2[\"Time (s)\"] != 0)), \"Time (s)\"] = np.arange(10,350, 15)\n",
    "relD_rep2.loc[((relD_rep2[\"Run\"]==7) & (relD_rep2[\"Time (s)\"] != 0)), \"Time (s)\"] = np.arange(10,350, 15)\n",
    "relD_rep2.loc[((relD_rep2[\"Run\"]==6) & (relD_rep2[\"Time (s)\"] != 0)), \"Time (s)\"] = np.arange(5,350, 15)\n",
    "relD_rep2.loc[((relD_rep2[\"Run\"]==8) & (relD_rep2[\"Time (s)\"] != 0)), \"Time (s)\"] = np.arange(5,360, 15)\n",
    "relD_rep3.loc[((relD_rep3[\"Run\"]==1) & (relD_rep3[\"Time (s)\"] != 0)), \"Time (s)\"] = np.arange(15,340, 15)\n",
    "relD_rep3.loc[((relD_rep3[\"Run\"]==3) & (relD_rep3[\"Time (s)\"] != 0)), \"Time (s)\"] = np.arange(15,340, 15)\n",
    "relD_rep3.loc[((relD_rep3[\"Run\"]==2) & (relD_rep3[\"Time (s)\"] != 0)), \"Time (s)\"] = np.arange(10,345, 15)\n",
    "relD_rep3.loc[((relD_rep3[\"Run\"]==4) & (relD_rep3[\"Time (s)\"] != 0)), \"Time (s)\"] = np.arange(10,345, 15)\n",
    "relD_rep3.loc[((relD_rep3[\"Run\"]==5) & (relD_rep3[\"Time (s)\"] != 0)), \"Time (s)\"] = np.arange(5,340, 15)\n",
    "relD_rep3.loc[((relD_rep3[\"Run\"]==7) & (relD_rep3[\"Time (s)\"] != 0)), \"Time (s)\"] = np.arange(5,340, 15)\n",
    "relD_rep3.loc[((relD_rep3[\"Run\"]==6) & (relD_rep3[\"Time (s)\"] != 0)), \"Time (s)\"] = np.arange(10,345, 15)"
   ]
  },
  {
   "cell_type": "code",
   "execution_count": 111,
   "metadata": {},
   "outputs": [
    {
     "data": {
      "text/html": [
       "<div>\n",
       "<style scoped>\n",
       "    .dataframe tbody tr th:only-of-type {\n",
       "        vertical-align: middle;\n",
       "    }\n",
       "\n",
       "    .dataframe tbody tr th {\n",
       "        vertical-align: top;\n",
       "    }\n",
       "\n",
       "    .dataframe thead th {\n",
       "        text-align: right;\n",
       "    }\n",
       "</style>\n",
       "<table border=\"1\" class=\"dataframe\">\n",
       "  <thead>\n",
       "    <tr style=\"text-align: right;\">\n",
       "      <th></th>\n",
       "      <th>index</th>\n",
       "      <th>Run</th>\n",
       "      <th>Strain</th>\n",
       "      <th>avg. N(Dots)/Cell</th>\n",
       "      <th>Time (s)</th>\n",
       "      <th>IPTG</th>\n",
       "      <th>LacI</th>\n",
       "      <th>Replica</th>\n",
       "      <th>$\\Delta$ avg. N(dots)/cell</th>\n",
       "    </tr>\n",
       "  </thead>\n",
       "  <tbody>\n",
       "    <tr>\n",
       "      <th>1</th>\n",
       "      <td>1</td>\n",
       "      <td>1</td>\n",
       "      <td>OSymL</td>\n",
       "      <td>0.121762</td>\n",
       "      <td>0.0</td>\n",
       "      <td>0.3 mM</td>\n",
       "      <td>Q55N</td>\n",
       "      <td>1</td>\n",
       "      <td>0.002830</td>\n",
       "    </tr>\n",
       "    <tr>\n",
       "      <th>3</th>\n",
       "      <td>3</td>\n",
       "      <td>1</td>\n",
       "      <td>OSymL</td>\n",
       "      <td>0.116788</td>\n",
       "      <td>0.0</td>\n",
       "      <td>0.3 mM</td>\n",
       "      <td>Q55N</td>\n",
       "      <td>1</td>\n",
       "      <td>-0.002144</td>\n",
       "    </tr>\n",
       "    <tr>\n",
       "      <th>5</th>\n",
       "      <td>5</td>\n",
       "      <td>1</td>\n",
       "      <td>OSymL</td>\n",
       "      <td>0.113043</td>\n",
       "      <td>10.0</td>\n",
       "      <td>0.3 mM</td>\n",
       "      <td>Q55N</td>\n",
       "      <td>1</td>\n",
       "      <td>-0.013685</td>\n",
       "    </tr>\n",
       "    <tr>\n",
       "      <th>7</th>\n",
       "      <td>7</td>\n",
       "      <td>1</td>\n",
       "      <td>OSymL</td>\n",
       "      <td>0.211886</td>\n",
       "      <td>25.0</td>\n",
       "      <td>0.3 mM</td>\n",
       "      <td>Q55N</td>\n",
       "      <td>1</td>\n",
       "      <td>0.088075</td>\n",
       "    </tr>\n",
       "    <tr>\n",
       "      <th>9</th>\n",
       "      <td>9</td>\n",
       "      <td>1</td>\n",
       "      <td>OSymL</td>\n",
       "      <td>0.306832</td>\n",
       "      <td>40.0</td>\n",
       "      <td>0.3 mM</td>\n",
       "      <td>Q55N</td>\n",
       "      <td>1</td>\n",
       "      <td>0.183180</td>\n",
       "    </tr>\n",
       "  </tbody>\n",
       "</table>\n",
       "</div>"
      ],
      "text/plain": [
       "   index  Run Strain  avg. N(Dots)/Cell  Time (s)    IPTG  LacI  Replica  \\\n",
       "1      1    1  OSymL           0.121762       0.0  0.3 mM  Q55N        1   \n",
       "3      3    1  OSymL           0.116788       0.0  0.3 mM  Q55N        1   \n",
       "5      5    1  OSymL           0.113043      10.0  0.3 mM  Q55N        1   \n",
       "7      7    1  OSymL           0.211886      25.0  0.3 mM  Q55N        1   \n",
       "9      9    1  OSymL           0.306832      40.0  0.3 mM  Q55N        1   \n",
       "\n",
       "   $\\Delta$ avg. N(dots)/cell  \n",
       "1                    0.002830  \n",
       "3                   -0.002144  \n",
       "5                   -0.013685  \n",
       "7                    0.088075  \n",
       "9                    0.183180  "
      ]
     },
     "execution_count": 111,
     "metadata": {},
     "output_type": "execute_result"
    }
   ],
   "source": [
    "relD_rep1.head()"
   ]
  },
  {
   "cell_type": "code",
   "execution_count": 122,
   "metadata": {},
   "outputs": [
    {
     "data": {
      "text/plain": [
       "<AxesSubplot:xlabel='Time (s)', ylabel='$\\\\Delta$ avg. N(dots)/cell'>"
      ]
     },
     "execution_count": 122,
     "metadata": {},
     "output_type": "execute_result"
    },
    {
     "data": {
      "image/png": "[encoded data removed]",
      "text/plain": [
       "<Figure size 432x288 with 1 Axes>"
      ]
     },
     "metadata": {
      "needs_background": "light"
     },
     "output_type": "display_data"
    }
   ],
   "source": [
    "sns.lineplot(data = pd.concat([relD_rep1, relD_rep2, relD_rep3]), x = \"Time (s)\",y = \"$\\Delta$ avg. N(dots)/cell\", \\\n",
    "             hue = \"Replica\")\n"
   ]
  },
  {
   "cell_type": "code",
   "execution_count": 121,
   "metadata": {},
   "outputs": [
    {
     "data": {
      "text/plain": [
       "<AxesSubplot:xlabel='Time (s)', ylabel='$\\\\Delta$ avg. N(dots)/cell'>"
      ]
     },
     "execution_count": 121,
     "metadata": {},
     "output_type": "execute_result"
    },
    {
     "data": {
      "image/png": "[encoded data removed]",
      "text/plain": [
       "<Figure size 432x288 with 1 Axes>"
      ]
     },
     "metadata": {
      "needs_background": "light"
     },
     "output_type": "display_data"
    }
   ],
   "source": [
    "sns.boxplot(data = pd.concat([relD_rep1, relD_rep2, relD_rep3]), x = \"Time (s)\",y = \"$\\Delta$ avg. N(dots)/cell\")\n"
   ]
  },
  {
   "cell_type": "code",
   "execution_count": 113,
   "metadata": {},
   "outputs": [],
   "source": [
    "def func(x, a, b, k):\n",
    "    return a * (1- b * np.exp(-k * (x) ) )\n",
    "def fit_curve(df, p0=(1,3,0.01), skipFirst=0, LacI=\"Q55N\"):\n",
    "    \n",
    "    from scipy.optimize import curve_fit\n",
    "    \n",
    "    DDots = df[df[\"LacI\"]==LacI][\"$\\Delta$ avg. N(dots)/cell\"]\n",
    "    #QDDots = df[df[\"LacI\"]==\"Q55N\"][\"$\\Delta$ avg. N(dots)/cell\"]\n",
    "    \n",
    "    Time = df[df[\"LacI\"]==LacI][\"Time (s)\"]\n",
    "    #QTime = df[df[\"LacI\"]==\"Q55N\"][\"Time (s)\"]\n",
    "    \n",
    "    x = Time.values\n",
    "    #x_Q = QTime.values\n",
    "    y = DDots.values\n",
    "    #y_Q = QDDots.values\n",
    "    popt, pcov = curve_fit(func, x[skipFirst:], y[skipFirst:], p0=p0)\n",
    "    #popt_Q, pcov_Q = curve_fit(func, x_Q[skipFirst:], y_Q[skipFirst:], p0=p0)\n",
    "    \n",
    "    print(popt)\n",
    "    return(x, y, popt)"
   ]
  },
  {
   "cell_type": "code",
   "execution_count": 116,
   "metadata": {},
   "outputs": [
    {
     "name": "stdout",
     "output_type": "stream",
     "text": [
      "[0.62552057 1.09814921 0.01822568]\n"
     ]
    }
   ],
   "source": [
    "x_wt1, y_wt1, popt_wt1 = fit_curve(pd.concat([relD_rep1, relD_rep2, relD_rep3]))"
   ]
  },
  {
   "cell_type": "code",
   "execution_count": 117,
   "metadata": {},
   "outputs": [
    {
     "data": {
      "image/png": "[encoded data removed]",
      "text/plain": [
       "<Figure size 273.6x208.8 with 1 Axes>"
      ]
     },
     "metadata": {
      "needs_background": "light"
     },
     "output_type": "display_data"
    }
   ],
   "source": [
    "plt.figure(figsize=(3.8,2.9))\n",
    "plt.plot(x_wt1, y_wt1, 'o', label=\"Data Q55N\", markersize=3)\n",
    "plt.plot(np.arange(0,350,15), func(np.arange(0,350,15), *popt_wt1), 'k-', label=\"Fit Q55N\")\n",
    "plt.legend()\n",
    "plt.ylim(-0.06,0.95)\n",
    "\n",
    "plt.legend()\n",
    "plt.ylabel(\"avg. N(dots/cell)\")\n",
    "plt.xlabel(\"Time (s)\")\n",
    "plt.tight_layout()\n",
    "\n",
    "#plt.savefig(figures+\"OSymL_WT_binding_curves_fitted_ONPG.pdf\")"
   ]
  },
  {
   "cell_type": "code",
   "execution_count": null,
   "metadata": {},
   "outputs": [],
   "source": []
  }
 ],
 "metadata": {
  "kernelspec": {
   "display_name": "Python 3 (ipykernel)",
   "language": "python",
   "name": "python3"
  },
  "language_info": {
   "codemirror_mode": {
    "name": "ipython",
    "version": 3
   },
   "file_extension": ".py",
   "mimetype": "text/x-python",
   "name": "python",
   "nbconvert_exporter": "python",
   "pygments_lexer": "ipython3",
   "version": "3.7.0"
  }
 },
 "nbformat": 4,
 "nbformat_minor": 4
}
