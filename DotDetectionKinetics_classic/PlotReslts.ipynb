{
 "cells": [
  {
   "cell_type": "markdown",
   "metadata": {},
   "source": [
    "folder needs to be defined for the analysis to run"
   ]
  },
  {
   "cell_type": "code",
   "execution_count": 4,
   "metadata": {
    "scrolled": true
   },
   "outputs": [],
   "source": [
    "import numpy as np\n",
    "import pandas as pd\n",
    "import os, sys\n",
    "import seaborn as sns\n",
    "import matplotlib.pyplot as plt "
   ]
  },
  {
   "cell_type": "code",
   "execution_count": 26,
   "metadata": {},
   "outputs": [],
   "source": [
    "folder1 = \"/home/malinlu/elflab/Projects/LacIdynamicsInVivo/EXP-23-CA4340/\"\n",
    "folder2 = \"/home/malinlu/elflab/Projects/LacIdynamicsInVivo/EXP-23-CA4346/\"\n",
    "folder3 = \"/home/malinlu/elflab/Projects/LacIdynamicsInVivo/EXP-23-CA4352/\""
   ]
  },
  {
   "cell_type": "markdown",
   "metadata": {},
   "source": [
    "The following parameters can be found in the table: ampl, bg, id (?),\tdr, \tsigma,\ttime,\tnumCells,\tPosition (on the chip). Additionally, I need to add which strain has been imaged in which position. As we image the different sides in an alternating fashion, either even or odd position numbers were used for one of the strains. "
   ]
  },
  {
   "cell_type": "code",
   "execution_count": 10,
   "metadata": {},
   "outputs": [],
   "source": [
    "def checkTable( folder, OSym=\"even\", run=2, protein=\"wt\", IPTG=\"0.3 mM\"):\n",
    "    \"\"\"Just check the table output from ImAnalysis. \"\"\"\n",
    "    \n",
    "    df = pd.read_excel(folder+'dots_run{}_.xlsx'.format(run), engine='openpyxl')\n",
    "    print(folder+'dots_run{}_.xlsx'.format(run))\n",
    "    return(df)"
   ]
  },
  {
   "cell_type": "code",
   "execution_count": 12,
   "metadata": {},
   "outputs": [
    {
     "name": "stdout",
     "output_type": "stream",
     "text": [
      "/home/malinlu/elflab/Projects/LacIdynamicsInVivo/EXP-23-CA4340/dots_run2_.xlsx\n"
     ]
    }
   ],
   "source": [
    "run2_test = checkTable(folder1, OSym=\"odd\", run=2)"
   ]
  },
  {
   "cell_type": "code",
   "execution_count": 13,
   "metadata": {},
   "outputs": [
    {
     "data": {
      "text/plain": [
       "'/home/malinlu/elflab/Projects/LacIdynamicsInVivo/EXP-23-CA4340/'"
      ]
     },
     "execution_count": 13,
     "metadata": {},
     "output_type": "execute_result"
    }
   ],
   "source": [
    "folder1"
   ]
  },
  {
   "cell_type": "code",
   "execution_count": 14,
   "metadata": {},
   "outputs": [
    {
     "data": {
      "text/html": [
       "<div>\n",
       "<style scoped>\n",
       "    .dataframe tbody tr th:only-of-type {\n",
       "        vertical-align: middle;\n",
       "    }\n",
       "\n",
       "    .dataframe tbody tr th {\n",
       "        vertical-align: top;\n",
       "    }\n",
       "\n",
       "    .dataframe thead th {\n",
       "        text-align: right;\n",
       "    }\n",
       "</style>\n",
       "<table border=\"1\" class=\"dataframe\">\n",
       "  <thead>\n",
       "    <tr style=\"text-align: right;\">\n",
       "      <th></th>\n",
       "      <th>coord_1</th>\n",
       "      <th>coord_2</th>\n",
       "      <th>internalCoord_1</th>\n",
       "      <th>internalCoord_2</th>\n",
       "      <th>err_1</th>\n",
       "      <th>err_2</th>\n",
       "      <th>err_3</th>\n",
       "      <th>ampl</th>\n",
       "      <th>bg</th>\n",
       "      <th>id</th>\n",
       "      <th>dr</th>\n",
       "      <th>sigma</th>\n",
       "      <th>time</th>\n",
       "      <th>numCells</th>\n",
       "      <th>Position</th>\n",
       "    </tr>\n",
       "  </thead>\n",
       "  <tbody>\n",
       "    <tr>\n",
       "      <th>89</th>\n",
       "      <td>366.567379</td>\n",
       "      <td>565.784161</td>\n",
       "      <td>0.301602</td>\n",
       "      <td>-0.107955</td>\n",
       "      <td>0.017844</td>\n",
       "      <td>0.018008</td>\n",
       "      <td>-0.000446</td>\n",
       "      <td>7201.278405</td>\n",
       "      <td>111.569838</td>\n",
       "      <td>17</td>\n",
       "      <td>1.209847</td>\n",
       "      <td>3.557224</td>\n",
       "      <td>1699367110546</td>\n",
       "      <td>691</td>\n",
       "      <td>5</td>\n",
       "    </tr>\n",
       "    <tr>\n",
       "      <th>168</th>\n",
       "      <td>176.454321</td>\n",
       "      <td>628.649724</td>\n",
       "      <td>0.185843</td>\n",
       "      <td>-0.677318</td>\n",
       "      <td>0.021296</td>\n",
       "      <td>0.020761</td>\n",
       "      <td>-0.001313</td>\n",
       "      <td>2789.003499</td>\n",
       "      <td>105.297530</td>\n",
       "      <td>9</td>\n",
       "      <td>0.783406</td>\n",
       "      <td>2.573514</td>\n",
       "      <td>1699367125545</td>\n",
       "      <td>685</td>\n",
       "      <td>6</td>\n",
       "    </tr>\n",
       "    <tr>\n",
       "      <th>275</th>\n",
       "      <td>1210.527320</td>\n",
       "      <td>297.995373</td>\n",
       "      <td>0.073286</td>\n",
       "      <td>1.446904</td>\n",
       "      <td>0.001517</td>\n",
       "      <td>0.001670</td>\n",
       "      <td>-0.000054</td>\n",
       "      <td>61668.150504</td>\n",
       "      <td>57.434466</td>\n",
       "      <td>201</td>\n",
       "      <td>0.526500</td>\n",
       "      <td>4.362757</td>\n",
       "      <td>1699367140545</td>\n",
       "      <td>679</td>\n",
       "      <td>7</td>\n",
       "    </tr>\n",
       "    <tr>\n",
       "      <th>458</th>\n",
       "      <td>994.154773</td>\n",
       "      <td>1051.225192</td>\n",
       "      <td>0.817701</td>\n",
       "      <td>0.537690</td>\n",
       "      <td>0.015526</td>\n",
       "      <td>0.017469</td>\n",
       "      <td>-0.001345</td>\n",
       "      <td>5436.440900</td>\n",
       "      <td>120.604687</td>\n",
       "      <td>127</td>\n",
       "      <td>0.941810</td>\n",
       "      <td>3.109084</td>\n",
       "      <td>1699367155546</td>\n",
       "      <td>695</td>\n",
       "      <td>8</td>\n",
       "    </tr>\n",
       "    <tr>\n",
       "      <th>753</th>\n",
       "      <td>292.439629</td>\n",
       "      <td>868.532600</td>\n",
       "      <td>0.820250</td>\n",
       "      <td>0.091456</td>\n",
       "      <td>0.014771</td>\n",
       "      <td>0.014522</td>\n",
       "      <td>-0.000385</td>\n",
       "      <td>4111.649210</td>\n",
       "      <td>124.171087</td>\n",
       "      <td>25</td>\n",
       "      <td>0.429330</td>\n",
       "      <td>2.722446</td>\n",
       "      <td>1699367185545</td>\n",
       "      <td>689</td>\n",
       "      <td>10</td>\n",
       "    </tr>\n",
       "  </tbody>\n",
       "</table>\n",
       "</div>"
      ],
      "text/plain": [
       "         coord_1      coord_2  internalCoord_1  internalCoord_2     err_1  \\\n",
       "89    366.567379   565.784161         0.301602        -0.107955  0.017844   \n",
       "168   176.454321   628.649724         0.185843        -0.677318  0.021296   \n",
       "275  1210.527320   297.995373         0.073286         1.446904  0.001517   \n",
       "458   994.154773  1051.225192         0.817701         0.537690  0.015526   \n",
       "753   292.439629   868.532600         0.820250         0.091456  0.014771   \n",
       "\n",
       "        err_2     err_3          ampl          bg   id        dr     sigma  \\\n",
       "89   0.018008 -0.000446   7201.278405  111.569838   17  1.209847  3.557224   \n",
       "168  0.020761 -0.001313   2789.003499  105.297530    9  0.783406  2.573514   \n",
       "275  0.001670 -0.000054  61668.150504   57.434466  201  0.526500  4.362757   \n",
       "458  0.017469 -0.001345   5436.440900  120.604687  127  0.941810  3.109084   \n",
       "753  0.014522 -0.000385   4111.649210  124.171087   25  0.429330  2.722446   \n",
       "\n",
       "              time  numCells  Position  \n",
       "89   1699367110546       691         5  \n",
       "168  1699367125545       685         6  \n",
       "275  1699367140545       679         7  \n",
       "458  1699367155546       695         8  \n",
       "753  1699367185545       689        10  "
      ]
     },
     "execution_count": 14,
     "metadata": {},
     "output_type": "execute_result"
    }
   ],
   "source": [
    "ind = np.unique(run2_test.sort_values(\"time\")[\"Position\"].values, return_index=True)[1]\n",
    "run2_test.iloc[ind].head()"
   ]
  },
  {
   "cell_type": "code",
   "execution_count": 15,
   "metadata": {},
   "outputs": [],
   "source": [
    "def normalizeTimesAddInf(folder, OSym=\"even\", run=2, protein=\"WT\", IPTG=\"0.3 mM\", replica =1):\n",
    "    \"\"\"Reads the result from ImAnalysis, adds information on the experiment and time of the run.\n",
    "    \n",
    "    Parameters\n",
    "    ----------\n",
    "    folder (str):\n",
    "        the folder with the data.\n",
    "    OSym (str): \"even\" or \"odd\"\n",
    "        even or odd dependent on positions with the strain having even or odd numbers.\n",
    "    run (int)\n",
    "        number of the run to be analysed.\n",
    "    protein (str): \"WT\", \"V52A\" or \"Q55N\"\n",
    "        defined the protein mutant contained in the cells.\n",
    "    IPTG (str)\n",
    "        defines the IPTG concentration used in the experiment.\n",
    "        \n",
    "\n",
    "    Returns\n",
    "    -------\n",
    "    df (pandas DF)\n",
    "        dataframe that contains the data from the image analysis with the time in s and specifics \n",
    "        about the experiment.\n",
    "\n",
    "    \"\"\"\n",
    "    \n",
    "    df = pd.read_excel(folder+'dots_run{}_.xlsx'.format(run), engine='openpyxl')\n",
    "\n",
    "    time1 = np.round(df.iloc[0][\"time\"]/1000)\n",
    "\n",
    "    norm_time = np.round(df[\"time\"]/1000)-time1 \n",
    "    df[\"Time (s)\"] = norm_time\n",
    "    \n",
    "    max_pos = np.max(df[\"Position\"].values)\n",
    "    \n",
    "    if OSym==\"even\":\n",
    "        strains = np.where( df[\"Position\"].isin(np.arange(1,max_pos+1,2)) , \"term\", \"OSymL\")\n",
    "    if OSym==\"odd\":\n",
    "        strains = np.where( df[\"Position\"].isin(np.arange(1,max_pos+1,2)) , \"OSymL\", \"term\")\n",
    "\n",
    "    df[\"Run\"] = [run for x in range(len(df))]\n",
    "    df[\"Strain\"] = strains\n",
    "    df[\"Run\"] = [run for x in range(len(df))]\n",
    "    df[\"LacI\"] = [protein for x in range(len(df))]\n",
    "    df[\"IPTG\"] = [IPTG for x in range(len(df))]\n",
    "    df[\"Replica\"] = [replica for x in range(len(df))]\n",
    "    \n",
    "    return(df)"
   ]
  },
  {
   "cell_type": "code",
   "execution_count": 16,
   "metadata": {},
   "outputs": [],
   "source": [
    "run1 = normalizeTimesAddInf(folder1, OSym=\"even\", run = 1)"
   ]
  },
  {
   "cell_type": "code",
   "execution_count": 17,
   "metadata": {},
   "outputs": [
    {
     "data": {
      "text/html": [
       "<div>\n",
       "<style scoped>\n",
       "    .dataframe tbody tr th:only-of-type {\n",
       "        vertical-align: middle;\n",
       "    }\n",
       "\n",
       "    .dataframe tbody tr th {\n",
       "        vertical-align: top;\n",
       "    }\n",
       "\n",
       "    .dataframe thead th {\n",
       "        text-align: right;\n",
       "    }\n",
       "</style>\n",
       "<table border=\"1\" class=\"dataframe\">\n",
       "  <thead>\n",
       "    <tr style=\"text-align: right;\">\n",
       "      <th></th>\n",
       "      <th>coord_1</th>\n",
       "      <th>coord_2</th>\n",
       "      <th>internalCoord_1</th>\n",
       "      <th>internalCoord_2</th>\n",
       "      <th>err_1</th>\n",
       "      <th>err_2</th>\n",
       "      <th>err_3</th>\n",
       "      <th>ampl</th>\n",
       "      <th>bg</th>\n",
       "      <th>id</th>\n",
       "      <th>...</th>\n",
       "      <th>sigma</th>\n",
       "      <th>time</th>\n",
       "      <th>numCells</th>\n",
       "      <th>Position</th>\n",
       "      <th>Time (s)</th>\n",
       "      <th>Run</th>\n",
       "      <th>Strain</th>\n",
       "      <th>LacI</th>\n",
       "      <th>IPTG</th>\n",
       "      <th>Replica</th>\n",
       "    </tr>\n",
       "  </thead>\n",
       "  <tbody>\n",
       "    <tr>\n",
       "      <th>0</th>\n",
       "      <td>1229.933727</td>\n",
       "      <td>422.669248</td>\n",
       "      <td>0.906744</td>\n",
       "      <td>-0.224511</td>\n",
       "      <td>0.010914</td>\n",
       "      <td>0.009617</td>\n",
       "      <td>0.002191</td>\n",
       "      <td>36729.384805</td>\n",
       "      <td>453.735171</td>\n",
       "      <td>65</td>\n",
       "      <td>...</td>\n",
       "      <td>4.495647</td>\n",
       "      <td>1699373938989</td>\n",
       "      <td>601</td>\n",
       "      <td>1</td>\n",
       "      <td>0.0</td>\n",
       "      <td>1</td>\n",
       "      <td>term</td>\n",
       "      <td>WT</td>\n",
       "      <td>0.3 mM</td>\n",
       "      <td>1</td>\n",
       "    </tr>\n",
       "    <tr>\n",
       "      <th>1</th>\n",
       "      <td>342.448740</td>\n",
       "      <td>536.759152</td>\n",
       "      <td>0.741471</td>\n",
       "      <td>0.063216</td>\n",
       "      <td>0.035656</td>\n",
       "      <td>0.039235</td>\n",
       "      <td>-0.002231</td>\n",
       "      <td>389.308843</td>\n",
       "      <td>93.887994</td>\n",
       "      <td>4</td>\n",
       "      <td>...</td>\n",
       "      <td>1.130444</td>\n",
       "      <td>1699373938989</td>\n",
       "      <td>601</td>\n",
       "      <td>1</td>\n",
       "      <td>0.0</td>\n",
       "      <td>1</td>\n",
       "      <td>term</td>\n",
       "      <td>WT</td>\n",
       "      <td>0.3 mM</td>\n",
       "      <td>1</td>\n",
       "    </tr>\n",
       "    <tr>\n",
       "      <th>2</th>\n",
       "      <td>1221.582455</td>\n",
       "      <td>571.002501</td>\n",
       "      <td>0.789569</td>\n",
       "      <td>0.163324</td>\n",
       "      <td>0.016660</td>\n",
       "      <td>0.015982</td>\n",
       "      <td>-0.000079</td>\n",
       "      <td>3254.223189</td>\n",
       "      <td>120.090593</td>\n",
       "      <td>32</td>\n",
       "      <td>...</td>\n",
       "      <td>2.535855</td>\n",
       "      <td>1699373938989</td>\n",
       "      <td>601</td>\n",
       "      <td>1</td>\n",
       "      <td>0.0</td>\n",
       "      <td>1</td>\n",
       "      <td>term</td>\n",
       "      <td>WT</td>\n",
       "      <td>0.3 mM</td>\n",
       "      <td>1</td>\n",
       "    </tr>\n",
       "  </tbody>\n",
       "</table>\n",
       "<p>3 rows × 21 columns</p>\n",
       "</div>"
      ],
      "text/plain": [
       "       coord_1     coord_2  internalCoord_1  internalCoord_2     err_1  \\\n",
       "0  1229.933727  422.669248         0.906744        -0.224511  0.010914   \n",
       "1   342.448740  536.759152         0.741471         0.063216  0.035656   \n",
       "2  1221.582455  571.002501         0.789569         0.163324  0.016660   \n",
       "\n",
       "      err_2     err_3          ampl          bg  id  ...     sigma  \\\n",
       "0  0.009617  0.002191  36729.384805  453.735171  65  ...  4.495647   \n",
       "1  0.039235 -0.002231    389.308843   93.887994   4  ...  1.130444   \n",
       "2  0.015982 -0.000079   3254.223189  120.090593  32  ...  2.535855   \n",
       "\n",
       "            time  numCells  Position  Time (s)  Run  Strain LacI    IPTG  \\\n",
       "0  1699373938989       601         1       0.0    1    term   WT  0.3 mM   \n",
       "1  1699373938989       601         1       0.0    1    term   WT  0.3 mM   \n",
       "2  1699373938989       601         1       0.0    1    term   WT  0.3 mM   \n",
       "\n",
       "  Replica  \n",
       "0       1  \n",
       "1       1  \n",
       "2       1  \n",
       "\n",
       "[3 rows x 21 columns]"
      ]
     },
     "execution_count": 17,
     "metadata": {},
     "output_type": "execute_result"
    }
   ],
   "source": [
    "run1.head(3)"
   ]
  },
  {
   "cell_type": "code",
   "execution_count": 18,
   "metadata": {},
   "outputs": [],
   "source": [
    "def AvgNumDotsCells(df): \n",
    "    \"\"\"Counts and averages the number of dots per cell in each position.\n",
    "    \n",
    "            Parameters:\n",
    "                df (pandas DataFrame): from normalizeTimesAddStrain(OSym=\"even\" or \"odd\", run = X)\n",
    "\n",
    "            Returns:\n",
    "                avgNumDotsCells (pandas DataFrame):contains the averaged number of dots, runs id, strain, time (s), \n",
    "                                        IPTG and LacI mutant.\n",
    "    \"\"\"\n",
    "    \n",
    "    run=df\n",
    "    avgNumDotsCells = np.array(run.groupby(\"Position\").count()[\"numCells\"])/ \\\n",
    "    np.array(run.groupby(\"Position\").mean(numeric_only=True)[\"numCells\"])\n",
    "\n",
    "    time = np.array(run.groupby(\"Position\").first()[\"Time (s)\"])\n",
    "    strain = np.array(run.groupby(\"Position\").first()[\"Strain\"])\n",
    "\n",
    "    runs = np.array(run.groupby(\"Position\").first()[\"Run\"])\n",
    "    IPTG = np.array(run.groupby(\"Position\").first()[\"IPTG\"])\n",
    "    LacI = np.array(run.groupby(\"Position\").first()[\"LacI\"])\n",
    "    replica = np.array(run.groupby(\"Position\").first()[\"Replica\"])\n",
    "    \n",
    "    avgNumDotsCells = pd.DataFrame({\"Run\":runs, \"Strain\":strain, \"avg. N(Dots)/Cell\": \\\n",
    "             avgNumDotsCells, \"Time (s)\": time, \"IPTG\": IPTG, \"LacI\": LacI, \"Replica\":replica})\n",
    "    return(avgNumDotsCells)"
   ]
  },
  {
   "cell_type": "code",
   "execution_count": 19,
   "metadata": {},
   "outputs": [],
   "source": [
    "run1_rep1_Num = AvgNumDotsCells(normalizeTimesAddInf(folder1, OSym=\"even\", run = 1))"
   ]
  },
  {
   "cell_type": "code",
   "execution_count": 27,
   "metadata": {},
   "outputs": [],
   "source": [
    "run1_rep2_Num = AvgNumDotsCells(normalizeTimesAddInf(folder2, OSym=\"even\", run = 1, replica=2))"
   ]
  },
  {
   "cell_type": "code",
   "execution_count": 28,
   "metadata": {},
   "outputs": [
    {
     "data": {
      "text/plain": [
       "(   Run Strain  avg. N(Dots)/Cell  Time (s)    IPTG LacI  Replica\n",
       " 0    1   term           0.011647       0.0  0.3 mM   WT        1\n",
       " 1    1  OSymL           0.052786       9.0  0.3 mM   WT        1,\n",
       "    Run Strain  avg. N(Dots)/Cell  Time (s)    IPTG LacI  Replica\n",
       " 0    1   term           0.027119       0.0  0.3 mM   WT        2\n",
       " 1    1  OSymL           0.149786       5.0  0.3 mM   WT        2)"
      ]
     },
     "execution_count": 28,
     "metadata": {},
     "output_type": "execute_result"
    }
   ],
   "source": [
    "run1_rep1_Num.head(2), run1_rep2_Num.head(2)"
   ]
  },
  {
   "cell_type": "code",
   "execution_count": 58,
   "metadata": {},
   "outputs": [],
   "source": [
    "def allRuns(folders, ids_runs, locs_OSym, protein=\"WT\"):\n",
    "    \"\"\"Combines the average number of cells record for all runs into one DF.\n",
    "    \n",
    "            Parameters:\n",
    "                ids_runs (list):the ids of the runs to sumarize.\n",
    "                locs_OSym (list): \"even\" or \"odd\", is Osym imaged from the even or odd positions?\n",
    "\n",
    "            Returns:\n",
    "                runNum1 (pandas DataFrame): summarized data frame.\n",
    "\n",
    "            Calls:\n",
    "                normalizeTimesAddStrain\n",
    "                AvgNumDotsCells\n",
    "    \"\"\"\n",
    "    \n",
    "    j=0\n",
    "    \n",
    "    df_list = []\n",
    "    \n",
    "    while j<len(folders):\n",
    "        print(j)\n",
    "        for i,m in zip(ids_runs[j], locs_OSym[j]):\n",
    "                df = normalizeTimesAddInf( folders[j], OSym=m, run=i, replica=j+1, protein=protein)\n",
    "                runNum = AvgNumDotsCells(df)\n",
    "                df_list.append(runNum)\n",
    "        j+=1\n",
    "                \n",
    "    runNum1 = pd.concat(x for x in df_list)\n",
    "    \n",
    "    return(runNum1.reset_index())"
   ]
  },
  {
   "cell_type": "code",
   "execution_count": 59,
   "metadata": {},
   "outputs": [
    {
     "name": "stdout",
     "output_type": "stream",
     "text": [
      "0\n",
      "1\n",
      "2\n"
     ]
    }
   ],
   "source": [
    "allR_i = allRuns([folder1,folder2, folder3],[[1,2,3,4],[1,2,3,4],[1,3,4,5,7]],[[\"even\",\"odd\", \"even\", \"odd\"],\\\n",
    "         [\"even\",\"odd\", \"even\", \"odd\"],[\"odd\",\"odd\", \"even\", \"odd\",\"odd\"]])"
   ]
  },
  {
   "cell_type": "markdown",
   "metadata": {},
   "source": [
    "For the analysis, the switch happens after 25 s. For binidng curves 25 s should be substratected from the times and negative time stemps should be sciped. \n",
    "Additionally, I want to substract the non-specific binding (in the cells without the operator) from the mixed binding (in the cells with the operator) for the wt strain. For this I want to use the points that are closest."
   ]
  },
  {
   "cell_type": "code",
   "execution_count": 60,
   "metadata": {},
   "outputs": [],
   "source": [
    "allR = allR_i.copy()"
   ]
  },
  {
   "cell_type": "code",
   "execution_count": 61,
   "metadata": {},
   "outputs": [
    {
     "data": {
      "text/plain": [
       "<AxesSubplot:xlabel='Time (s)', ylabel='avg. N(Dots)/Cell'>"
      ]
     },
     "execution_count": 61,
     "metadata": {},
     "output_type": "execute_result"
    },
    {
     "data": {
      "image/png": "[encoded data removed]",
      "text/plain": [
       "<Figure size 432x288 with 1 Axes>"
      ]
     },
     "metadata": {
      "needs_background": "light"
     },
     "output_type": "display_data"
    }
   ],
   "source": [
    "sns.lineplot(data=allR[allR[\"Replica\"]==1], x = \"Time (s)\", y = \"avg. N(Dots)/Cell\", hue = \"Strain\", style = \"Run\")\n"
   ]
  },
  {
   "cell_type": "code",
   "execution_count": 62,
   "metadata": {},
   "outputs": [
    {
     "data": {
      "text/plain": [
       "<AxesSubplot:xlabel='Time (s)', ylabel='avg. N(Dots)/Cell'>"
      ]
     },
     "execution_count": 62,
     "metadata": {},
     "output_type": "execute_result"
    },
    {
     "data": {
      "image/png": "[encoded data removed]",
      "text/plain": [
       "<Figure size 432x288 with 1 Axes>"
      ]
     },
     "metadata": {
      "needs_background": "light"
     },
     "output_type": "display_data"
    }
   ],
   "source": [
    "sns.lineplot(data=allR[allR[\"Replica\"]==2], x = \"Time (s)\", y = \"avg. N(Dots)/Cell\", hue = \"Strain\", style = \"Run\")"
   ]
  },
  {
   "cell_type": "code",
   "execution_count": 63,
   "metadata": {},
   "outputs": [
    {
     "data": {
      "text/plain": [
       "<AxesSubplot:xlabel='Time (s)', ylabel='avg. N(Dots)/Cell'>"
      ]
     },
     "execution_count": 63,
     "metadata": {},
     "output_type": "execute_result"
    },
    {
     "data": {
      "image/png": "[encoded data removed]",
      "text/plain": [
       "<Figure size 432x288 with 1 Axes>"
      ]
     },
     "metadata": {
      "needs_background": "light"
     },
     "output_type": "display_data"
    }
   ],
   "source": [
    "sns.lineplot(data=allR[allR[\"Replica\"]==3], x = \"Time (s)\", y = \"avg. N(Dots)/Cell\", \\\n",
    "             style = \"Strain\", hue = \"Run\", palette=\"Set2\")"
   ]
  },
  {
   "cell_type": "code",
   "execution_count": 64,
   "metadata": {},
   "outputs": [],
   "source": [
    "# do some correction on run 3\n",
    "\n",
    "indexDrop = allR[ (allR[\"Replica\"]==3) &( allR[\"Run\"]==3) & (allR['Time (s)'] >= 300) ].index\n",
    "allR.drop(indexDrop , inplace=True)"
   ]
  },
  {
   "cell_type": "code",
   "execution_count": 92,
   "metadata": {},
   "outputs": [],
   "source": [
    "def interpolate(df, j, i):\n",
    "    \"\"\"Get the linear interpolation between non-specific dots to substract from the mixed binding.\n",
    "    \n",
    "        Parameters:\n",
    "            df (pandas DataFrame):\n",
    "                contains data from microscopy\n",
    "            j (int):\n",
    "                replica\n",
    "            i (int):\n",
    "                run\n",
    "        \n",
    "        Returns:\n",
    "            lininp (numpy array):\n",
    "                contains the interpolated values of non-specific bindings to match the time of the mixed one.\n",
    "    \"\"\"\n",
    "    \n",
    "    SymL = df[(df[\"Strain\"] == \"OSymL\") & (df[\"Replica\"] ==  j) ]\n",
    "    term = df[(df[\"Strain\"] == \"term\")& (df[\"Replica\"] ==  j) ]\n",
    "    \n",
    "    lininp = np.interp(SymL[SymL[\"Run\"]==i][\"Time (s)\"].values,\\\n",
    "                      term[term[\"Run\"]==i][\"Time (s)\"].values,\\\n",
    "                      term[term[\"Run\"]==i][\"avg. N(Dots)/Cell\"].values)\n",
    "    return(lininp)\n",
    "\n",
    "def checkFit(df, j, i):\n",
    "    \"Plot the data and the fitted cubic spline as well as the result from substraction (specific binding).\"\n",
    "    \n",
    "    SymL = df[(df[\"Strain\"] == \"OSymL\") & (df[\"Replica\"] ==  j) ]\n",
    "    term = df[(df[\"Strain\"] == \"term\")& (df[\"Replica\"] ==  j) ]\n",
    "    \n",
    "    interp = interpolate(df, j, i)\n",
    "    \n",
    "    plt.plot(SymL[SymL[\"Run\"]==i][\"Time (s)\"].values, interp, label='interpolation')\n",
    "    plt.plot(term[term[\"Run\"]==i][\"Time (s)\"].values,\\\n",
    "             term[term[\"Run\"]==i][\"avg. N(Dots)/Cell\"].values, label=\"data term\")\n",
    "    plt.plot(SymL[SymL[\"Run\"]==i][\"Time (s)\"].values,\\\n",
    "             SymL[SymL[\"Run\"]==i][\"avg. N(Dots)/Cell\"].values, label=\"data OSymL\")\n",
    "    plt.plot(SymL[SymL[\"Run\"]==i][\"Time (s)\"].values,\\\n",
    "             SymL[SymL[\"Run\"]==i][\"avg. N(Dots)/Cell\"].values-interp, label=\"data specific\")\n",
    "    plt.legend()"
   ]
  },
  {
   "cell_type": "code",
   "execution_count": 108,
   "metadata": {},
   "outputs": [
    {
     "data": {
      "image/png": "[encoded data removed]",
      "text/plain": [
       "<Figure size 432x288 with 1 Axes>"
      ]
     },
     "metadata": {
      "needs_background": "light"
     },
     "output_type": "display_data"
    }
   ],
   "source": [
    "checkFit(allR,3,7)"
   ]
  },
  {
   "cell_type": "code",
   "execution_count": 109,
   "metadata": {},
   "outputs": [],
   "source": [
    "def calculateDeltaDots(df, LacI= \"WT\", IPTG=\"0.3 mM\", ONPG=False ,runs = [1,2,3,4], switching_time=10, replica = 1):\n",
    "    \"\"\" Calculates the difference between number of dots in cells with and without operator --> specific binding.\n",
    "    \n",
    "    This works for a DataFrame that contains data from one or several experiments, where the relevant one is \n",
    "    extracted using the keywords. The time is adjusted by substracting the time of the media switch.\n",
    "\n",
    "    The number of dots for the empty strain is substracted from the one with the operator. \n",
    "    As the data for the two strain cannot be recordet at the same time, the curves for the control strain\n",
    "    are fitted using a cubic splines first. The curves serve to calculate the expected number of dots recorded \n",
    "    at the same time as the image for the operator containing strain was recorded.\n",
    "    \n",
    "    Finally the curves of the runs (Usually 4 runs per experiment) are averaged to obtain a mean curve and \n",
    "    standard deviation.\n",
    "    \n",
    "        Parameters:\n",
    "            df (pandas DataFrame): contains the data from the microscopy experiment, where the strain and conditions are defined.\n",
    "            LacI (str):defines the protein\n",
    "            IPTG (str):defines the IPTG concentration in the media\n",
    "            ONPG (bol, str):False when no ONPG has been used, otherwise the ONPG concentration\n",
    "            runs (int):number of runs analysed for the df\n",
    "            switching_time (int):time (s) of the media switch\n",
    "    \n",
    "        Return:\n",
    "            dDots (pandas DataFrame): \n",
    "    \"\"\"\n",
    "\n",
    "    # get the experiments \n",
    "    if ONPG==True:\n",
    "        rr_LacI = df[(df[\"IPTG\"]==IPTG)&(df[\"LacI\"]==LacI)&(df[\"ONPG\"]==ONPG) & (df[\"Replica\"]==replica)]\n",
    "    else:\n",
    "        rr_LacI = df[(df[\"IPTG\"]==IPTG)&(df[\"LacI\"]==LacI) & (df[\"Replica\"]==replica)]\n",
    "    \n",
    "    # correct the time to 0 at the switch \n",
    "    rr_LacI_ = rr_LacI.copy()\n",
    "    rr_LacI_[\"Time (s)\"] = rr_LacI[\"Time (s)\"]-switching_time # Here you want a first point at 0\n",
    "    \n",
    "    #  exchange negative times with 0\n",
    "    rr_LacI_.loc[rr_LacI_[\"Time (s)\"] <0 , \"Time (s)\"] = 0\n",
    "    \n",
    "    # split the frame according to strain\n",
    "    rr_LacI_OSymL = rr_LacI_[rr_LacI_[\"Strain\"] == \"OSymL\"]\n",
    "    rr_LacI_term = rr_LacI_[rr_LacI_[\"Strain\"] == \"term\"]\n",
    "    \n",
    "    # calculate the difference between the average number of dots per cell in strains with and without operator\n",
    "    relNdots = []\n",
    "\n",
    "    for i in runs:\n",
    "        # interpolate the number of non-specific dots for the specific binding time points    \n",
    "        new_term_points = interpolate(rr_LacI_, replica, i)\n",
    "        \n",
    "        relNdots.append(np.array(rr_LacI_OSymL[rr_LacI_OSymL[\"Run\"]==i][\"avg. N(Dots)/Cell\"])-new_term_points)\n",
    "    \n",
    "    rr_LacI_OSymL_rel = rr_LacI_OSymL.copy()\n",
    "    rr_LacI_OSymL_rel[\"$\\Delta$ avg. N(dots)/cell\"] =  [x for i in relNdots for x in i]\n",
    "    return(rr_LacI_OSymL_rel)"
   ]
  },
  {
   "cell_type": "code",
   "execution_count": 110,
   "metadata": {},
   "outputs": [
    {
     "data": {
      "text/html": [
       "<div>\n",
       "<style scoped>\n",
       "    .dataframe tbody tr th:only-of-type {\n",
       "        vertical-align: middle;\n",
       "    }\n",
       "\n",
       "    .dataframe tbody tr th {\n",
       "        vertical-align: top;\n",
       "    }\n",
       "\n",
       "    .dataframe thead th {\n",
       "        text-align: right;\n",
       "    }\n",
       "</style>\n",
       "<table border=\"1\" class=\"dataframe\">\n",
       "  <thead>\n",
       "    <tr style=\"text-align: right;\">\n",
       "      <th></th>\n",
       "      <th>index</th>\n",
       "      <th>Run</th>\n",
       "      <th>Strain</th>\n",
       "      <th>avg. N(Dots)/Cell</th>\n",
       "      <th>Time (s)</th>\n",
       "      <th>IPTG</th>\n",
       "      <th>LacI</th>\n",
       "      <th>Replica</th>\n",
       "    </tr>\n",
       "  </thead>\n",
       "  <tbody>\n",
       "    <tr>\n",
       "      <th>0</th>\n",
       "      <td>0</td>\n",
       "      <td>1</td>\n",
       "      <td>term</td>\n",
       "      <td>0.011647</td>\n",
       "      <td>0.0</td>\n",
       "      <td>0.3 mM</td>\n",
       "      <td>WT</td>\n",
       "      <td>1</td>\n",
       "    </tr>\n",
       "    <tr>\n",
       "      <th>1</th>\n",
       "      <td>1</td>\n",
       "      <td>1</td>\n",
       "      <td>OSymL</td>\n",
       "      <td>0.052786</td>\n",
       "      <td>9.0</td>\n",
       "      <td>0.3 mM</td>\n",
       "      <td>WT</td>\n",
       "      <td>1</td>\n",
       "    </tr>\n",
       "    <tr>\n",
       "      <th>2</th>\n",
       "      <td>2</td>\n",
       "      <td>1</td>\n",
       "      <td>term</td>\n",
       "      <td>0.015025</td>\n",
       "      <td>14.0</td>\n",
       "      <td>0.3 mM</td>\n",
       "      <td>WT</td>\n",
       "      <td>1</td>\n",
       "    </tr>\n",
       "    <tr>\n",
       "      <th>3</th>\n",
       "      <td>3</td>\n",
       "      <td>1</td>\n",
       "      <td>OSymL</td>\n",
       "      <td>0.115774</td>\n",
       "      <td>24.0</td>\n",
       "      <td>0.3 mM</td>\n",
       "      <td>WT</td>\n",
       "      <td>1</td>\n",
       "    </tr>\n",
       "    <tr>\n",
       "      <th>4</th>\n",
       "      <td>4</td>\n",
       "      <td>1</td>\n",
       "      <td>term</td>\n",
       "      <td>0.014173</td>\n",
       "      <td>29.0</td>\n",
       "      <td>0.3 mM</td>\n",
       "      <td>WT</td>\n",
       "      <td>1</td>\n",
       "    </tr>\n",
       "  </tbody>\n",
       "</table>\n",
       "</div>"
      ],
      "text/plain": [
       "   index  Run Strain  avg. N(Dots)/Cell  Time (s)    IPTG LacI  Replica\n",
       "0      0    1   term           0.011647       0.0  0.3 mM   WT        1\n",
       "1      1    1  OSymL           0.052786       9.0  0.3 mM   WT        1\n",
       "2      2    1   term           0.015025      14.0  0.3 mM   WT        1\n",
       "3      3    1  OSymL           0.115774      24.0  0.3 mM   WT        1\n",
       "4      4    1   term           0.014173      29.0  0.3 mM   WT        1"
      ]
     },
     "execution_count": 110,
     "metadata": {},
     "output_type": "execute_result"
    }
   ],
   "source": [
    "allR.head()"
   ]
  },
  {
   "cell_type": "code",
   "execution_count": 112,
   "metadata": {},
   "outputs": [],
   "source": [
    "relD_rep1 = calculateDeltaDots(allR, switching_time= 25, replica = 1)"
   ]
  },
  {
   "cell_type": "code",
   "execution_count": 113,
   "metadata": {},
   "outputs": [],
   "source": [
    "relD_rep2 = calculateDeltaDots(allR, switching_time= 10, replica = 2)"
   ]
  },
  {
   "cell_type": "code",
   "execution_count": 114,
   "metadata": {},
   "outputs": [],
   "source": [
    "relD_rep3 = calculateDeltaDots(allR,runs = [1,3,4,5,7], switching_time= 10, replica = 3)"
   ]
  },
  {
   "cell_type": "code",
   "execution_count": 115,
   "metadata": {},
   "outputs": [
    {
     "data": {
      "text/html": [
       "<div>\n",
       "<style scoped>\n",
       "    .dataframe tbody tr th:only-of-type {\n",
       "        vertical-align: middle;\n",
       "    }\n",
       "\n",
       "    .dataframe tbody tr th {\n",
       "        vertical-align: top;\n",
       "    }\n",
       "\n",
       "    .dataframe thead th {\n",
       "        text-align: right;\n",
       "    }\n",
       "</style>\n",
       "<table border=\"1\" class=\"dataframe\">\n",
       "  <thead>\n",
       "    <tr style=\"text-align: right;\">\n",
       "      <th></th>\n",
       "      <th>index</th>\n",
       "      <th>Run</th>\n",
       "      <th>Strain</th>\n",
       "      <th>avg. N(Dots)/Cell</th>\n",
       "      <th>Time (s)</th>\n",
       "      <th>IPTG</th>\n",
       "      <th>LacI</th>\n",
       "      <th>Replica</th>\n",
       "      <th>$\\Delta$ avg. N(dots)/cell</th>\n",
       "    </tr>\n",
       "  </thead>\n",
       "  <tbody>\n",
       "    <tr>\n",
       "      <th>1</th>\n",
       "      <td>1</td>\n",
       "      <td>1</td>\n",
       "      <td>OSymL</td>\n",
       "      <td>0.052786</td>\n",
       "      <td>0.0</td>\n",
       "      <td>0.3 mM</td>\n",
       "      <td>WT</td>\n",
       "      <td>1</td>\n",
       "      <td>0.037761</td>\n",
       "    </tr>\n",
       "    <tr>\n",
       "      <th>3</th>\n",
       "      <td>3</td>\n",
       "      <td>1</td>\n",
       "      <td>OSymL</td>\n",
       "      <td>0.115774</td>\n",
       "      <td>0.0</td>\n",
       "      <td>0.3 mM</td>\n",
       "      <td>WT</td>\n",
       "      <td>1</td>\n",
       "      <td>0.100749</td>\n",
       "    </tr>\n",
       "    <tr>\n",
       "      <th>5</th>\n",
       "      <td>5</td>\n",
       "      <td>1</td>\n",
       "      <td>OSymL</td>\n",
       "      <td>0.175953</td>\n",
       "      <td>14.0</td>\n",
       "      <td>0.3 mM</td>\n",
       "      <td>WT</td>\n",
       "      <td>1</td>\n",
       "      <td>0.157428</td>\n",
       "    </tr>\n",
       "    <tr>\n",
       "      <th>7</th>\n",
       "      <td>7</td>\n",
       "      <td>1</td>\n",
       "      <td>OSymL</td>\n",
       "      <td>0.321188</td>\n",
       "      <td>29.0</td>\n",
       "      <td>0.3 mM</td>\n",
       "      <td>WT</td>\n",
       "      <td>1</td>\n",
       "      <td>0.270130</td>\n",
       "    </tr>\n",
       "    <tr>\n",
       "      <th>9</th>\n",
       "      <td>9</td>\n",
       "      <td>1</td>\n",
       "      <td>OSymL</td>\n",
       "      <td>0.515449</td>\n",
       "      <td>44.0</td>\n",
       "      <td>0.3 mM</td>\n",
       "      <td>WT</td>\n",
       "      <td>1</td>\n",
       "      <td>0.381543</td>\n",
       "    </tr>\n",
       "  </tbody>\n",
       "</table>\n",
       "</div>"
      ],
      "text/plain": [
       "   index  Run Strain  avg. N(Dots)/Cell  Time (s)    IPTG LacI  Replica  \\\n",
       "1      1    1  OSymL           0.052786       0.0  0.3 mM   WT        1   \n",
       "3      3    1  OSymL           0.115774       0.0  0.3 mM   WT        1   \n",
       "5      5    1  OSymL           0.175953      14.0  0.3 mM   WT        1   \n",
       "7      7    1  OSymL           0.321188      29.0  0.3 mM   WT        1   \n",
       "9      9    1  OSymL           0.515449      44.0  0.3 mM   WT        1   \n",
       "\n",
       "   $\\Delta$ avg. N(dots)/cell  \n",
       "1                    0.037761  \n",
       "3                    0.100749  \n",
       "5                    0.157428  \n",
       "7                    0.270130  \n",
       "9                    0.381543  "
      ]
     },
     "execution_count": 115,
     "metadata": {},
     "output_type": "execute_result"
    }
   ],
   "source": [
    "relD_rep1.head()"
   ]
  },
  {
   "cell_type": "code",
   "execution_count": 116,
   "metadata": {},
   "outputs": [
    {
     "data": {
      "text/html": [
       "<div>\n",
       "<style scoped>\n",
       "    .dataframe tbody tr th:only-of-type {\n",
       "        vertical-align: middle;\n",
       "    }\n",
       "\n",
       "    .dataframe tbody tr th {\n",
       "        vertical-align: top;\n",
       "    }\n",
       "\n",
       "    .dataframe thead th {\n",
       "        text-align: right;\n",
       "    }\n",
       "</style>\n",
       "<table border=\"1\" class=\"dataframe\">\n",
       "  <thead>\n",
       "    <tr style=\"text-align: right;\">\n",
       "      <th></th>\n",
       "      <th>index</th>\n",
       "      <th>Run</th>\n",
       "      <th>Strain</th>\n",
       "      <th>avg. N(Dots)/Cell</th>\n",
       "      <th>Time (s)</th>\n",
       "      <th>IPTG</th>\n",
       "      <th>LacI</th>\n",
       "      <th>Replica</th>\n",
       "      <th>$\\Delta$ avg. N(dots)/cell</th>\n",
       "    </tr>\n",
       "  </thead>\n",
       "  <tbody>\n",
       "    <tr>\n",
       "      <th>193</th>\n",
       "      <td>1</td>\n",
       "      <td>1</td>\n",
       "      <td>OSymL</td>\n",
       "      <td>0.149786</td>\n",
       "      <td>0.0</td>\n",
       "      <td>0.3 mM</td>\n",
       "      <td>WT</td>\n",
       "      <td>2</td>\n",
       "      <td>0.122667</td>\n",
       "    </tr>\n",
       "    <tr>\n",
       "      <th>195</th>\n",
       "      <td>3</td>\n",
       "      <td>1</td>\n",
       "      <td>OSymL</td>\n",
       "      <td>0.254733</td>\n",
       "      <td>8.0</td>\n",
       "      <td>0.3 mM</td>\n",
       "      <td>WT</td>\n",
       "      <td>2</td>\n",
       "      <td>0.222776</td>\n",
       "    </tr>\n",
       "    <tr>\n",
       "      <th>197</th>\n",
       "      <td>5</td>\n",
       "      <td>1</td>\n",
       "      <td>OSymL</td>\n",
       "      <td>0.441400</td>\n",
       "      <td>23.0</td>\n",
       "      <td>0.3 mM</td>\n",
       "      <td>WT</td>\n",
       "      <td>2</td>\n",
       "      <td>0.382695</td>\n",
       "    </tr>\n",
       "  </tbody>\n",
       "</table>\n",
       "</div>"
      ],
      "text/plain": [
       "     index  Run Strain  avg. N(Dots)/Cell  Time (s)    IPTG LacI  Replica  \\\n",
       "193      1    1  OSymL           0.149786       0.0  0.3 mM   WT        2   \n",
       "195      3    1  OSymL           0.254733       8.0  0.3 mM   WT        2   \n",
       "197      5    1  OSymL           0.441400      23.0  0.3 mM   WT        2   \n",
       "\n",
       "     $\\Delta$ avg. N(dots)/cell  \n",
       "193                    0.122667  \n",
       "195                    0.222776  \n",
       "197                    0.382695  "
      ]
     },
     "execution_count": 116,
     "metadata": {},
     "output_type": "execute_result"
    }
   ],
   "source": [
    "relD_rep2.head(3)"
   ]
  },
  {
   "cell_type": "code",
   "execution_count": 141,
   "metadata": {},
   "outputs": [
    {
     "data": {
      "text/plain": [
       "365"
      ]
     },
     "execution_count": 141,
     "metadata": {},
     "output_type": "execute_result"
    }
   ],
   "source": [
    "len(relD_rep3.loc[((relD_rep3[\"Run\"]==7) & (relD_rep3[\"Time (s)\"] != 0)), \"Time (s)\"])*15+5"
   ]
  },
  {
   "cell_type": "code",
   "execution_count": 142,
   "metadata": {},
   "outputs": [],
   "source": [
    "# change the times\n",
    "relD_rep1.loc[((relD_rep1[\"Run\"]==1) & (relD_rep1[\"Time (s)\"] != 0)), \"Time (s)\"] = np.arange(10,331, 15)\n",
    "relD_rep1.loc[((relD_rep1[\"Run\"]==3) & (relD_rep1[\"Time (s)\"] != 0)), \"Time (s)\"] = np.arange(10,331, 15)\n",
    "relD_rep1.loc[((relD_rep1[\"Run\"]==2) & (relD_rep1[\"Time (s)\"] != 0)), \"Time (s)\"] = np.arange(5,330, 15)\n",
    "relD_rep1.loc[((relD_rep1[\"Run\"]==4) & (relD_rep1[\"Time (s)\"] != 0)), \"Time (s)\"] = np.arange(5,330, 15)\n",
    "relD_rep2.loc[((relD_rep2[\"Run\"]==1) & (relD_rep2[\"Time (s)\"] != 0)), \"Time (s)\"] = np.arange(10,351, 15)\n",
    "relD_rep2.loc[((relD_rep2[\"Run\"]==3) & (relD_rep2[\"Time (s)\"] != 0)), \"Time (s)\"] = np.arange(10,351, 15)\n",
    "relD_rep2.loc[((relD_rep2[\"Run\"]==2) & (relD_rep2[\"Time (s)\"] != 0)), \"Time (s)\"] = np.arange(5,350, 15)\n",
    "relD_rep2.loc[((relD_rep2[\"Run\"]==4) & (relD_rep2[\"Time (s)\"] != 0)), \"Time (s)\"] = np.arange(5,360, 15)\n",
    "\n",
    "relD_rep3.loc[((relD_rep3[\"Run\"]==1) & (relD_rep3[\"Time (s)\"] != 0)), \"Time (s)\"] = np.arange(5,350, 15)\n",
    "relD_rep3.loc[((relD_rep3[\"Run\"]==3) & (relD_rep3[\"Time (s)\"] != 0)), \"Time (s)\"] = np.arange(5,300, 15)\n",
    "relD_rep3.loc[((relD_rep3[\"Run\"]==4) & (relD_rep3[\"Time (s)\"] != 0)), \"Time (s)\"] = np.arange(10,350, 15)\n",
    "relD_rep3.loc[((relD_rep3[\"Run\"]==5) & (relD_rep3[\"Time (s)\"] != 0)), \"Time (s)\"] = np.arange(5,350, 15)\n",
    "relD_rep3.loc[((relD_rep3[\"Run\"]==7) & (relD_rep3[\"Time (s)\"] != 0)), \"Time (s)\"] = np.arange(5,365, 15)"
   ]
  },
  {
   "cell_type": "code",
   "execution_count": 145,
   "metadata": {},
   "outputs": [
    {
     "data": {
      "text/html": [
       "<div>\n",
       "<style scoped>\n",
       "    .dataframe tbody tr th:only-of-type {\n",
       "        vertical-align: middle;\n",
       "    }\n",
       "\n",
       "    .dataframe tbody tr th {\n",
       "        vertical-align: top;\n",
       "    }\n",
       "\n",
       "    .dataframe thead th {\n",
       "        text-align: right;\n",
       "    }\n",
       "</style>\n",
       "<table border=\"1\" class=\"dataframe\">\n",
       "  <thead>\n",
       "    <tr style=\"text-align: right;\">\n",
       "      <th></th>\n",
       "      <th>index</th>\n",
       "      <th>Run</th>\n",
       "      <th>Strain</th>\n",
       "      <th>avg. N(Dots)/Cell</th>\n",
       "      <th>Time (s)</th>\n",
       "      <th>IPTG</th>\n",
       "      <th>LacI</th>\n",
       "      <th>Replica</th>\n",
       "      <th>$\\Delta$ avg. N(dots)/cell</th>\n",
       "    </tr>\n",
       "  </thead>\n",
       "  <tbody>\n",
       "    <tr>\n",
       "      <th>386</th>\n",
       "      <td>0</td>\n",
       "      <td>1</td>\n",
       "      <td>OSymL</td>\n",
       "      <td>0.174373</td>\n",
       "      <td>0.0</td>\n",
       "      <td>0.3 mM</td>\n",
       "      <td>WT</td>\n",
       "      <td>3</td>\n",
       "      <td>0.156417</td>\n",
       "    </tr>\n",
       "    <tr>\n",
       "      <th>388</th>\n",
       "      <td>2</td>\n",
       "      <td>1</td>\n",
       "      <td>OSymL</td>\n",
       "      <td>0.238961</td>\n",
       "      <td>5.0</td>\n",
       "      <td>0.3 mM</td>\n",
       "      <td>WT</td>\n",
       "      <td>3</td>\n",
       "      <td>0.218175</td>\n",
       "    </tr>\n",
       "    <tr>\n",
       "      <th>390</th>\n",
       "      <td>4</td>\n",
       "      <td>1</td>\n",
       "      <td>OSymL</td>\n",
       "      <td>0.448231</td>\n",
       "      <td>20.0</td>\n",
       "      <td>0.3 mM</td>\n",
       "      <td>WT</td>\n",
       "      <td>3</td>\n",
       "      <td>0.396422</td>\n",
       "    </tr>\n",
       "  </tbody>\n",
       "</table>\n",
       "</div>"
      ],
      "text/plain": [
       "     index  Run Strain  avg. N(Dots)/Cell  Time (s)    IPTG LacI  Replica  \\\n",
       "386      0    1  OSymL           0.174373       0.0  0.3 mM   WT        3   \n",
       "388      2    1  OSymL           0.238961       5.0  0.3 mM   WT        3   \n",
       "390      4    1  OSymL           0.448231      20.0  0.3 mM   WT        3   \n",
       "\n",
       "     $\\Delta$ avg. N(dots)/cell  \n",
       "386                    0.156417  \n",
       "388                    0.218175  \n",
       "390                    0.396422  "
      ]
     },
     "execution_count": 145,
     "metadata": {},
     "output_type": "execute_result"
    }
   ],
   "source": [
    "relD_rep3.head(3)"
   ]
  },
  {
   "cell_type": "code",
   "execution_count": 146,
   "metadata": {},
   "outputs": [
    {
     "data": {
      "text/plain": [
       "<AxesSubplot:xlabel='Time (s)', ylabel='$\\\\Delta$ avg. N(dots)/cell'>"
      ]
     },
     "execution_count": 146,
     "metadata": {},
     "output_type": "execute_result"
    },
    {
     "data": {
      "image/png": "[encoded data removed]",
      "text/plain": [
       "<Figure size 432x288 with 1 Axes>"
      ]
     },
     "metadata": {
      "needs_background": "light"
     },
     "output_type": "display_data"
    }
   ],
   "source": [
    "sns.boxplot(data = pd.concat([relD_rep1, relD_rep2, relD_rep3]), x = \"Time (s)\",y = \"$\\Delta$ avg. N(dots)/cell\")\n"
   ]
  },
  {
   "cell_type": "code",
   "execution_count": 148,
   "metadata": {},
   "outputs": [
    {
     "data": {
      "text/plain": [
       "<AxesSubplot:xlabel='Time (s)', ylabel='$\\\\Delta$ avg. N(dots)/cell'>"
      ]
     },
     "execution_count": 148,
     "metadata": {},
     "output_type": "execute_result"
    },
    {
     "data": {
      "image/png": "[encoded data removed]",
      "text/plain": [
       "<Figure size 432x288 with 1 Axes>"
      ]
     },
     "metadata": {
      "needs_background": "light"
     },
     "output_type": "display_data"
    }
   ],
   "source": [
    "sns.lineplot(data = pd.concat([relD_rep1, relD_rep2, relD_rep3]), x = \"Time (s)\",y = \"$\\Delta$ avg. N(dots)/cell\", hue= \"Replica\",\\\n",
    "           palette=\"Set2\" )"
   ]
  },
  {
   "cell_type": "code",
   "execution_count": 149,
   "metadata": {},
   "outputs": [],
   "source": [
    "def func(x, a, b, k):\n",
    "    return a * (1- b * np.exp(-k * (x) ) )\n",
    "def fit_curve(df, p0=(1,3,0.01), skipFirst=0, LacI=\"WT\"):\n",
    "    \n",
    "    from scipy.optimize import curve_fit\n",
    "    \n",
    "    DDots = df[df[\"LacI\"]==LacI][\"$\\Delta$ avg. N(dots)/cell\"]\n",
    "    #QDDots = df[df[\"LacI\"]==\"Q55N\"][\"$\\Delta$ avg. N(dots)/cell\"]\n",
    "    \n",
    "    Time = df[df[\"LacI\"]==LacI][\"Time (s)\"]\n",
    "    #QTime = df[df[\"LacI\"]==\"Q55N\"][\"Time (s)\"]\n",
    "    \n",
    "    x = Time.values\n",
    "    #x_Q = QTime.values\n",
    "    y = DDots.values\n",
    "    #y_Q = QDDots.values\n",
    "    popt, pcov = curve_fit(func, x[skipFirst:], y[skipFirst:], p0=p0)\n",
    "    #popt_Q, pcov_Q = curve_fit(func, x_Q[skipFirst:], y_Q[skipFirst:], p0=p0)\n",
    "    \n",
    "    print(popt)\n",
    "    return(x, y, popt)"
   ]
  },
  {
   "cell_type": "code",
   "execution_count": 152,
   "metadata": {},
   "outputs": [
    {
     "name": "stdout",
     "output_type": "stream",
     "text": [
      "[0.64588808 0.82205226 0.02537285]\n"
     ]
    }
   ],
   "source": [
    "x_wt1, y_wt1, popt_wt1 = fit_curve(pd.concat([relD_rep1, relD_rep2, relD_rep3]))"
   ]
  },
  {
   "cell_type": "code",
   "execution_count": 153,
   "metadata": {},
   "outputs": [
    {
     "data": {
      "image/png": "[encoded data removed]",
      "text/plain": [
       "<Figure size 273.6x208.8 with 1 Axes>"
      ]
     },
     "metadata": {
      "needs_background": "light"
     },
     "output_type": "display_data"
    }
   ],
   "source": [
    "plt.figure(figsize=(3.8,2.9))\n",
    "plt.plot(x_wt1, y_wt1, 'o', label=\"Data WT\", markersize=3)\n",
    "plt.plot(np.arange(0,350,15), func(np.arange(0,350,15), *popt_wt1), 'k-', label=\"Fit WT\")\n",
    "plt.legend()\n",
    "plt.ylim(-0.06,0.95)\n",
    "\n",
    "plt.legend()\n",
    "plt.ylabel(\"avg. N(dots/cell)\")\n",
    "plt.xlabel(\"Time (s)\")\n",
    "plt.tight_layout()\n",
    "\n",
    "#plt.savefig(figures+\"OSymL_WT_binding_curves_fitted_ONPG.pdf\")"
   ]
  },
  {
   "cell_type": "code",
   "execution_count": null,
   "metadata": {},
   "outputs": [],
   "source": []
  },
  {
   "cell_type": "code",
   "execution_count": null,
   "metadata": {},
   "outputs": [],
   "source": []
  }
 ],
 "metadata": {
  "kernelspec": {
   "display_name": "Python 3 (ipykernel)",
   "language": "python",
   "name": "python3"
  },
  "language_info": {
   "codemirror_mode": {
    "name": "ipython",
    "version": 3
   },
   "file_extension": ".py",
   "mimetype": "text/x-python",
   "name": "python",
   "nbconvert_exporter": "python",
   "pygments_lexer": "ipython3",
   "version": "3.7.0"
  }
 },
 "nbformat": 4,
 "nbformat_minor": 4
}
