{
 "cells": [
  {
   "cell_type": "code",
   "execution_count": 1,
   "metadata": {
    "scrolled": true
   },
   "outputs": [],
   "source": [
    "import numpy as np\n",
    "import pandas as pd\n",
    "import os, sys\n",
    "import seaborn as sns\n",
    "import matplotlib.pyplot as plt "
   ]
  },
  {
   "cell_type": "code",
   "execution_count": 2,
   "metadata": {},
   "outputs": [],
   "source": [
    "folder = \"/domus/h1/malinlu/elflab/Projects/LacIdynamicsInVivo/EXP-23-CA4324/\""
   ]
  },
  {
   "cell_type": "code",
   "execution_count": 24,
   "metadata": {},
   "outputs": [],
   "source": [
    "def normalizeTimesAddStrain( OSym=\"even\", run=2):\n",
    "    df_even = pd.read_excel(folder+'dots_run{}_even.xlsx'.format(run), engine='openpyxl')\n",
    "    df_odd = pd.read_excel(folder+'dots_run{}_odd.xlsx'.format(run), engine='openpyxl')\n",
    "    print(len(df_even), len(df_odd))\n",
    "    time1 = np.round(df_odd.iloc[0][\"time\"]/1000)\n",
    "    #print(time1, np.round(df_odd[\"time\"]/1000))\n",
    "    norm_time_odd = np.round(df_odd[\"time\"]/1000)-time1 \n",
    "    norm_time_even = np.round(df_even[\"time\"]/1000)-time1\n",
    "    df_odd[\"Time (s)\"] = norm_time_odd\n",
    "    df_even[\"Time (s)\"]  = norm_time_even\n",
    "    if OSym==\"even\":\n",
    "        df_even[\"Strain\"] = [\"OSymL\" for x in range(len(df_even))]\n",
    "        df_odd[\"Strain\"] = [\"term\" for x in range(len(df_odd))]\n",
    "    else:\n",
    "        df_even[\"Strain\"] = [\"term\" for x in range(len(df_even))]\n",
    "        df_odd[\"Strain\"] = [\"OSymL\"  for x in range(len(df_odd))]\n",
    "    \n",
    "    df = pd.concat([df_odd, df_even])\n",
    "    df[\"Run\"] = [run for x in range(len(df_odd)+len(df_even))]\n",
    "    \n",
    "    return(df)"
   ]
  },
  {
   "cell_type": "code",
   "execution_count": 4,
   "metadata": {},
   "outputs": [
    {
     "name": "stdout",
     "output_type": "stream",
     "text": [
      "11313 16343\n"
     ]
    }
   ],
   "source": [
    "trun = normalizeTimesAddStrain(OSym=\"o\")\n"
   ]
  },
  {
   "cell_type": "code",
   "execution_count": 5,
   "metadata": {},
   "outputs": [
    {
     "data": {
      "text/html": [
       "<div>\n",
       "<style scoped>\n",
       "    .dataframe tbody tr th:only-of-type {\n",
       "        vertical-align: middle;\n",
       "    }\n",
       "\n",
       "    .dataframe tbody tr th {\n",
       "        vertical-align: top;\n",
       "    }\n",
       "\n",
       "    .dataframe thead th {\n",
       "        text-align: right;\n",
       "    }\n",
       "</style>\n",
       "<table border=\"1\" class=\"dataframe\">\n",
       "  <thead>\n",
       "    <tr style=\"text-align: right;\">\n",
       "      <th></th>\n",
       "      <th>coord_1</th>\n",
       "      <th>coord_2</th>\n",
       "      <th>internalCoord_1</th>\n",
       "      <th>internalCoord_2</th>\n",
       "      <th>err_1</th>\n",
       "      <th>err_2</th>\n",
       "      <th>err_3</th>\n",
       "      <th>ampl</th>\n",
       "      <th>bg</th>\n",
       "      <th>id</th>\n",
       "      <th>dr</th>\n",
       "      <th>sigma</th>\n",
       "      <th>time</th>\n",
       "      <th>numCells</th>\n",
       "      <th>Position</th>\n",
       "      <th>Time (s)</th>\n",
       "      <th>Strain</th>\n",
       "      <th>Run</th>\n",
       "    </tr>\n",
       "  </thead>\n",
       "  <tbody>\n",
       "    <tr>\n",
       "      <th>0</th>\n",
       "      <td>699.102225</td>\n",
       "      <td>148.598191</td>\n",
       "      <td>0.107029</td>\n",
       "      <td>0.651466</td>\n",
       "      <td>0.018361</td>\n",
       "      <td>0.020230</td>\n",
       "      <td>0.000957</td>\n",
       "      <td>6134.716158</td>\n",
       "      <td>117.793220</td>\n",
       "      <td>300</td>\n",
       "      <td>1.205242</td>\n",
       "      <td>3.416566</td>\n",
       "      <td>1691664750190</td>\n",
       "      <td>580</td>\n",
       "      <td>1</td>\n",
       "      <td>0.0</td>\n",
       "      <td>OSymL</td>\n",
       "      <td>2</td>\n",
       "    </tr>\n",
       "    <tr>\n",
       "      <th>1</th>\n",
       "      <td>457.979365</td>\n",
       "      <td>156.661746</td>\n",
       "      <td>0.771438</td>\n",
       "      <td>-0.296809</td>\n",
       "      <td>0.026263</td>\n",
       "      <td>0.027252</td>\n",
       "      <td>0.004933</td>\n",
       "      <td>12189.163390</td>\n",
       "      <td>103.456373</td>\n",
       "      <td>140</td>\n",
       "      <td>1.306325</td>\n",
       "      <td>4.517638</td>\n",
       "      <td>1691664750190</td>\n",
       "      <td>580</td>\n",
       "      <td>1</td>\n",
       "      <td>0.0</td>\n",
       "      <td>OSymL</td>\n",
       "      <td>2</td>\n",
       "    </tr>\n",
       "    <tr>\n",
       "      <th>2</th>\n",
       "      <td>673.743773</td>\n",
       "      <td>151.488185</td>\n",
       "      <td>0.839489</td>\n",
       "      <td>0.403776</td>\n",
       "      <td>0.040127</td>\n",
       "      <td>0.033407</td>\n",
       "      <td>-0.002996</td>\n",
       "      <td>7572.416589</td>\n",
       "      <td>115.717084</td>\n",
       "      <td>287</td>\n",
       "      <td>1.801631</td>\n",
       "      <td>4.129263</td>\n",
       "      <td>1691664750190</td>\n",
       "      <td>580</td>\n",
       "      <td>1</td>\n",
       "      <td>0.0</td>\n",
       "      <td>OSymL</td>\n",
       "      <td>2</td>\n",
       "    </tr>\n",
       "    <tr>\n",
       "      <th>3</th>\n",
       "      <td>1025.898803</td>\n",
       "      <td>173.741860</td>\n",
       "      <td>0.644020</td>\n",
       "      <td>-0.159720</td>\n",
       "      <td>0.017123</td>\n",
       "      <td>0.015662</td>\n",
       "      <td>0.000646</td>\n",
       "      <td>4569.542718</td>\n",
       "      <td>139.273450</td>\n",
       "      <td>546</td>\n",
       "      <td>0.443265</td>\n",
       "      <td>2.860423</td>\n",
       "      <td>1691664750190</td>\n",
       "      <td>580</td>\n",
       "      <td>1</td>\n",
       "      <td>0.0</td>\n",
       "      <td>OSymL</td>\n",
       "      <td>2</td>\n",
       "    </tr>\n",
       "    <tr>\n",
       "      <th>4</th>\n",
       "      <td>442.279313</td>\n",
       "      <td>179.200297</td>\n",
       "      <td>0.112782</td>\n",
       "      <td>-0.587208</td>\n",
       "      <td>0.017275</td>\n",
       "      <td>0.017803</td>\n",
       "      <td>0.001719</td>\n",
       "      <td>4952.390764</td>\n",
       "      <td>125.076295</td>\n",
       "      <td>125</td>\n",
       "      <td>0.294201</td>\n",
       "      <td>3.079904</td>\n",
       "      <td>1691664750190</td>\n",
       "      <td>580</td>\n",
       "      <td>1</td>\n",
       "      <td>0.0</td>\n",
       "      <td>OSymL</td>\n",
       "      <td>2</td>\n",
       "    </tr>\n",
       "    <tr>\n",
       "      <th>...</th>\n",
       "      <td>...</td>\n",
       "      <td>...</td>\n",
       "      <td>...</td>\n",
       "      <td>...</td>\n",
       "      <td>...</td>\n",
       "      <td>...</td>\n",
       "      <td>...</td>\n",
       "      <td>...</td>\n",
       "      <td>...</td>\n",
       "      <td>...</td>\n",
       "      <td>...</td>\n",
       "      <td>...</td>\n",
       "      <td>...</td>\n",
       "      <td>...</td>\n",
       "      <td>...</td>\n",
       "      <td>...</td>\n",
       "      <td>...</td>\n",
       "      <td>...</td>\n",
       "    </tr>\n",
       "    <tr>\n",
       "      <th>11308</th>\n",
       "      <td>921.264228</td>\n",
       "      <td>1482.547291</td>\n",
       "      <td>0.275242</td>\n",
       "      <td>0.232113</td>\n",
       "      <td>0.039793</td>\n",
       "      <td>0.031444</td>\n",
       "      <td>-0.002438</td>\n",
       "      <td>3848.365272</td>\n",
       "      <td>119.975660</td>\n",
       "      <td>679</td>\n",
       "      <td>1.235517</td>\n",
       "      <td>3.221594</td>\n",
       "      <td>1691665039753</td>\n",
       "      <td>626</td>\n",
       "      <td>20</td>\n",
       "      <td>290.0</td>\n",
       "      <td>term</td>\n",
       "      <td>2</td>\n",
       "    </tr>\n",
       "    <tr>\n",
       "      <th>11309</th>\n",
       "      <td>936.528870</td>\n",
       "      <td>1491.359300</td>\n",
       "      <td>0.524173</td>\n",
       "      <td>-0.885276</td>\n",
       "      <td>0.033014</td>\n",
       "      <td>0.050751</td>\n",
       "      <td>0.011134</td>\n",
       "      <td>1772.072245</td>\n",
       "      <td>114.163579</td>\n",
       "      <td>690</td>\n",
       "      <td>0.733293</td>\n",
       "      <td>2.227375</td>\n",
       "      <td>1691665039753</td>\n",
       "      <td>626</td>\n",
       "      <td>20</td>\n",
       "      <td>290.0</td>\n",
       "      <td>term</td>\n",
       "      <td>2</td>\n",
       "    </tr>\n",
       "    <tr>\n",
       "      <th>11310</th>\n",
       "      <td>984.891131</td>\n",
       "      <td>1486.142785</td>\n",
       "      <td>0.302814</td>\n",
       "      <td>-0.488525</td>\n",
       "      <td>0.043843</td>\n",
       "      <td>0.041437</td>\n",
       "      <td>-0.004814</td>\n",
       "      <td>1932.867273</td>\n",
       "      <td>119.804287</td>\n",
       "      <td>737</td>\n",
       "      <td>0.699699</td>\n",
       "      <td>2.502165</td>\n",
       "      <td>1691665039753</td>\n",
       "      <td>626</td>\n",
       "      <td>20</td>\n",
       "      <td>290.0</td>\n",
       "      <td>term</td>\n",
       "      <td>2</td>\n",
       "    </tr>\n",
       "    <tr>\n",
       "      <th>11311</th>\n",
       "      <td>1005.071132</td>\n",
       "      <td>1484.431361</td>\n",
       "      <td>0.648456</td>\n",
       "      <td>-0.201573</td>\n",
       "      <td>0.016873</td>\n",
       "      <td>0.018083</td>\n",
       "      <td>-0.001411</td>\n",
       "      <td>10139.835897</td>\n",
       "      <td>108.548163</td>\n",
       "      <td>753</td>\n",
       "      <td>0.869001</td>\n",
       "      <td>4.081237</td>\n",
       "      <td>1691665039753</td>\n",
       "      <td>626</td>\n",
       "      <td>20</td>\n",
       "      <td>290.0</td>\n",
       "      <td>term</td>\n",
       "      <td>2</td>\n",
       "    </tr>\n",
       "    <tr>\n",
       "      <th>11312</th>\n",
       "      <td>407.304947</td>\n",
       "      <td>1483.407728</td>\n",
       "      <td>0.753672</td>\n",
       "      <td>0.094677</td>\n",
       "      <td>0.029878</td>\n",
       "      <td>0.021298</td>\n",
       "      <td>0.001433</td>\n",
       "      <td>3150.169198</td>\n",
       "      <td>126.974391</td>\n",
       "      <td>195</td>\n",
       "      <td>1.238337</td>\n",
       "      <td>2.695721</td>\n",
       "      <td>1691665039753</td>\n",
       "      <td>626</td>\n",
       "      <td>20</td>\n",
       "      <td>290.0</td>\n",
       "      <td>term</td>\n",
       "      <td>2</td>\n",
       "    </tr>\n",
       "  </tbody>\n",
       "</table>\n",
       "<p>27656 rows × 18 columns</p>\n",
       "</div>"
      ],
      "text/plain": [
       "           coord_1      coord_2  internalCoord_1  internalCoord_2     err_1  \\\n",
       "0       699.102225   148.598191         0.107029         0.651466  0.018361   \n",
       "1       457.979365   156.661746         0.771438        -0.296809  0.026263   \n",
       "2       673.743773   151.488185         0.839489         0.403776  0.040127   \n",
       "3      1025.898803   173.741860         0.644020        -0.159720  0.017123   \n",
       "4       442.279313   179.200297         0.112782        -0.587208  0.017275   \n",
       "...            ...          ...              ...              ...       ...   \n",
       "11308   921.264228  1482.547291         0.275242         0.232113  0.039793   \n",
       "11309   936.528870  1491.359300         0.524173        -0.885276  0.033014   \n",
       "11310   984.891131  1486.142785         0.302814        -0.488525  0.043843   \n",
       "11311  1005.071132  1484.431361         0.648456        -0.201573  0.016873   \n",
       "11312   407.304947  1483.407728         0.753672         0.094677  0.029878   \n",
       "\n",
       "          err_2     err_3          ampl          bg   id        dr     sigma  \\\n",
       "0      0.020230  0.000957   6134.716158  117.793220  300  1.205242  3.416566   \n",
       "1      0.027252  0.004933  12189.163390  103.456373  140  1.306325  4.517638   \n",
       "2      0.033407 -0.002996   7572.416589  115.717084  287  1.801631  4.129263   \n",
       "3      0.015662  0.000646   4569.542718  139.273450  546  0.443265  2.860423   \n",
       "4      0.017803  0.001719   4952.390764  125.076295  125  0.294201  3.079904   \n",
       "...         ...       ...           ...         ...  ...       ...       ...   \n",
       "11308  0.031444 -0.002438   3848.365272  119.975660  679  1.235517  3.221594   \n",
       "11309  0.050751  0.011134   1772.072245  114.163579  690  0.733293  2.227375   \n",
       "11310  0.041437 -0.004814   1932.867273  119.804287  737  0.699699  2.502165   \n",
       "11311  0.018083 -0.001411  10139.835897  108.548163  753  0.869001  4.081237   \n",
       "11312  0.021298  0.001433   3150.169198  126.974391  195  1.238337  2.695721   \n",
       "\n",
       "                time  numCells  Position  Time (s) Strain  Run  \n",
       "0      1691664750190       580         1       0.0  OSymL    2  \n",
       "1      1691664750190       580         1       0.0  OSymL    2  \n",
       "2      1691664750190       580         1       0.0  OSymL    2  \n",
       "3      1691664750190       580         1       0.0  OSymL    2  \n",
       "4      1691664750190       580         1       0.0  OSymL    2  \n",
       "...              ...       ...       ...       ...    ...  ...  \n",
       "11308  1691665039753       626        20     290.0   term    2  \n",
       "11309  1691665039753       626        20     290.0   term    2  \n",
       "11310  1691665039753       626        20     290.0   term    2  \n",
       "11311  1691665039753       626        20     290.0   term    2  \n",
       "11312  1691665039753       626        20     290.0   term    2  \n",
       "\n",
       "[27656 rows x 18 columns]"
      ]
     },
     "execution_count": 5,
     "metadata": {},
     "output_type": "execute_result"
    }
   ],
   "source": [
    "trun"
   ]
  },
  {
   "cell_type": "code",
   "execution_count": 19,
   "metadata": {},
   "outputs": [],
   "source": [
    "def AvgNumDotsCells(df): \n",
    "    run=df\n",
    "    avgNumDotsCells_term = np.array(run[run[\"Strain\"]==\"term\"].groupby(\"Position\").count()[\"numCells\"])/ \\\n",
    "    np.array(run[run[\"Strain\"]==\"term\"].groupby(\"Position\").mean(numeric_only=True)[\"numCells\"])\n",
    "    avgNumDotsCells_OSym = np.array(run[run[\"Strain\"]==\"OSymL\"].groupby(\"Position\").count()[\"numCells\"])/ \\\n",
    "    np.array(run[run[\"Strain\"]==\"OSymL\"].groupby(\"Position\").mean(numeric_only=True)[\"numCells\"])\n",
    "    time_term = np.array(run[run[\"Strain\"]==\"term\"].groupby(\"Position\").first()[\"Time (s)\"])\n",
    "    time_OSym = np.array(run[run[\"Strain\"]==\"OSymL\"].groupby(\"Position\").first()[\"Time (s)\"])\n",
    "    strain_term = np.array(run[run[\"Strain\"]==\"term\"].groupby(\"Position\").first()[\"Strain\"])\n",
    "    strain_OSym = np.array(run[run[\"Strain\"]==\"OSymL\"].groupby(\"Position\").first()[\"Strain\"])\n",
    "    runs = np.array(run.groupby([\"Position\", \"Strain\"]).first()[\"Run\"])\n",
    "    avgNumDotsCells = pd.DataFrame({\"Run\":runs, \"Strain\":np.concatenate([strain_term, strain_OSym]), \"Avg. Num. (Dots)\": \\\n",
    "             np.concatenate([avgNumDotsCells_term, avgNumDotsCells_OSym]), \"Time (s)\": \\\n",
    "              np.concatenate([time_term, time_OSym])})\n",
    "    return(avgNumDotsCells)"
   ]
  },
  {
   "cell_type": "code",
   "execution_count": 20,
   "metadata": {},
   "outputs": [],
   "source": [
    "trun_Num = AvgNumDotsCells(trun)"
   ]
  },
  {
   "cell_type": "code",
   "execution_count": 21,
   "metadata": {},
   "outputs": [],
   "source": [
    "def allRuns(ids_runs, locs_OSym):\n",
    "    df1 = normalizeTimesAddStrain( OSym=locs_OSym[0], run=ids_runs[0])\n",
    "    runNum1 = AvgNumDotsCells(df1)\n",
    "    for i,m in zip(ids_runs[1:], locs_OSym[1:]):\n",
    "        df = normalizeTimesAddStrain( OSym=m, run=i)\n",
    "        runNum = AvgNumDotsCells(df)\n",
    "        runNum1 = pd.concat([runNum1,runNum])\n",
    "    return(runNum1)"
   ]
  },
  {
   "cell_type": "code",
   "execution_count": 22,
   "metadata": {},
   "outputs": [
    {
     "name": "stdout",
     "output_type": "stream",
     "text": [
      "11313 16343\n",
      "10660 15115\n",
      "10218 10287\n",
      "11670 8875\n"
     ]
    }
   ],
   "source": [
    "allR = allRuns([2,3,4,5],[\"odd\",\"odd\", \"even\", \"even\"])"
   ]
  },
  {
   "cell_type": "code",
   "execution_count": 23,
   "metadata": {},
   "outputs": [
    {
     "data": {
      "text/plain": [
       "<AxesSubplot:xlabel='Time (s)', ylabel='Avg. Num. (Dots)'>"
      ]
     },
     "execution_count": 23,
     "metadata": {},
     "output_type": "execute_result"
    },
    {
     "data": {
      "image/png": "[encoded data removed]",
      "text/plain": [
       "<Figure size 432x288 with 1 Axes>"
      ]
     },
     "metadata": {
      "needs_background": "light"
     },
     "output_type": "display_data"
    }
   ],
   "source": [
    "sns.lineplot(data=allR, x = \"Time (s)\", y = \"Avg. Num. (Dots)\", hue = \"Strain\", style = \"Run\")"
   ]
  },
  {
   "cell_type": "code",
   "execution_count": null,
   "metadata": {},
   "outputs": [],
   "source": [
    "def normalizeTimesAddStrain( OSym=\"even\", run=2):\n",
    "    df_even = pd.read_excel(folder+'dots_run10_{}_even.xlsx'.format(run), engine='openpyxl')\n",
    "    df_odd = pd.read_excel(folder+'dots_run10_{}_odd.xlsx'.format(run), engine='openpyxl')\n",
    "    print(len(df_even), len(df_odd))\n",
    "    time1 = np.round(df_odd.iloc[0][\"time\"]/1000)\n",
    "    #print(time1, np.round(df_odd[\"time\"]/1000))\n",
    "    norm_time_odd = np.round(df_odd[\"time\"]/1000)-time1 \n",
    "    norm_time_even = np.round(df_even[\"time\"]/1000)-time1\n",
    "    df_odd[\"Time (s)\"] = norm_time_odd\n",
    "    df_even[\"Time (s)\"]  = norm_time_even\n",
    "    if OSym==\"even\":\n",
    "        df_even[\"Strain\"] = [\"OSymL\" for x in range(len(df_even))]\n",
    "        df_odd[\"Strain\"] = [\"term\" for x in range(len(df_odd))]\n",
    "    else:\n",
    "        df_even[\"Strain\"] = [\"term\" for x in range(len(df_even))]\n",
    "        df_odd[\"Strain\"] = [\"OSymL\"  for x in range(len(df_odd))]\n",
    "    \n",
    "    df = pd.concat([df_odd, df_even])\n",
    "    df[\"Run\"] = [run for x in range(len(df_odd)+len(df_even))]\n",
    "    \n",
    "    return(df)"
   ]
  },
  {
   "cell_type": "code",
   "execution_count": 25,
   "metadata": {},
   "outputs": [
    {
     "name": "stdout",
     "output_type": "stream",
     "text": [
      "8431 13871\n",
      "8060 13211\n",
      "14429 8536\n",
      "13385 7794\n"
     ]
    }
   ],
   "source": [
    "allR = allRuns([1,2,3,4],[\"odd\",\"odd\", \"even\", \"even\"])"
   ]
  },
  {
   "cell_type": "code",
   "execution_count": 26,
   "metadata": {},
   "outputs": [
    {
     "data": {
      "text/plain": [
       "<AxesSubplot:xlabel='Time (s)', ylabel='Avg. Num. (Dots)'>"
      ]
     },
     "execution_count": 26,
     "metadata": {},
     "output_type": "execute_result"
    },
    {
     "data": {
      "image/png": "[encoded data removed]",
      "text/plain": [
       "<Figure size 432x288 with 1 Axes>"
      ]
     },
     "metadata": {
      "needs_background": "light"
     },
     "output_type": "display_data"
    }
   ],
   "source": [
    "sns.lineplot(data=allR, x = \"Time (s)\", y = \"Avg. Num. (Dots)\", hue = \"Strain\", style = \"Run\")"
   ]
  },
  {
   "cell_type": "code",
   "execution_count": null,
   "metadata": {},
   "outputs": [],
   "source": []
  }
 ],
 "metadata": {
  "kernelspec": {
   "display_name": "Python 3 (ipykernel)",
   "language": "python",
   "name": "python3"
  },
  "language_info": {
   "codemirror_mode": {
    "name": "ipython",
    "version": 3
   },
   "file_extension": ".py",
   "mimetype": "text/x-python",
   "name": "python",
   "nbconvert_exporter": "python",
   "pygments_lexer": "ipython3",
   "version": "3.7.0"
  }
 },
 "nbformat": 4,
 "nbformat_minor": 4
}
